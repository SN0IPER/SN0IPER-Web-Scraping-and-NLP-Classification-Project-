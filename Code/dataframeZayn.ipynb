{
 "cells": [
  {
   "cell_type": "markdown",
   "id": "62dee99c-5c4e-4bdb-9805-1b6bbfecae06",
   "metadata": {},
   "source": [
    "imported libraries"
   ]
  },
  {
   "cell_type": "code",
   "execution_count": 1,
   "id": "2e3b6214-3a8a-403a-a71c-d82618e2ff26",
   "metadata": {},
   "outputs": [],
   "source": [
    "import datetime,spacy\n",
    "import numpy as np\n",
    "import seaborn as sns\n",
    "import pandas as pd\n",
    "%matplotlib inline\n",
    "from sklearn.preprocessing import MinMaxScaler\n",
    "from matplotlib import pyplot as plt\n",
    "from cleantext import clean\n",
    "from sklearn.neighbors import KNeighborsClassifier\n",
    "from sklearn.linear_model import LogisticRegressionCV\n",
    "from sklearn.model_selection import cross_val_score,StratifiedKFold,train_test_split,StratifiedKFold\n",
    "from sklearn.feature_extraction.text import TfidfVectorizer\n",
    "from sklearn.ensemble import GradientBoostingClassifier,RandomForestClassifier\n",
    "from sklearn.metrics import confusion_matrix,ConfusionMatrixDisplay,recall_score"
   ]
  },
  {
   "cell_type": "markdown",
   "id": "85c538bf-4ab5-43a2-b7bc-f51e4c41e709",
   "metadata": {
    "tags": []
   },
   "source": [
    "# Problem Statement:\n",
    "## To test and see what model will predict the best score.\n",
    "- **I have chosen these models and will find the best score among them.**\n",
    "- RandomForestClassifier\n",
    "- KNeighborsClassifier\n",
    "- LogisticRegressionCV\n",
    "- GradientBoostingClassifier"
   ]
  },
  {
   "cell_type": "markdown",
   "id": "ea7a8e30-b078-48be-a5f0-338fc5287800",
   "metadata": {},
   "source": [
    "### Scenario\n",
    "- You're fresh out of your Data Science bootcamp and looking to break through in the world of freelance data journalism. Nate Silver and co. at FiveThirtyEight have agreed to hear your pitch for a story in two weeks!\n",
    "\n",
    "- Your piece is going to be on how to create a Reddit post that will get the most engagement from Reddit users. Because this is FiveThirtyEight, you're going to have to get data and analyze it in order to make a compelling narrative."
   ]
  },
  {
   "cell_type": "markdown",
   "id": "0f3ee529-fbd5-41d3-bdb9-61cbc7221f32",
   "metadata": {
    "tags": []
   },
   "source": [
    "---\n",
    "## importing reddit scrape csv"
   ]
  },
  {
   "cell_type": "markdown",
   "id": "5a5622e8-da67-4fa4-8bd2-a48447c2639a",
   "metadata": {},
   "source": [
    "- I am importing my csv files from my scraper textfile that collected all the subreddit posts.\n",
    "- I make create a database(db) for my posts."
   ]
  },
  {
   "cell_type": "code",
   "execution_count": 2,
   "id": "fa653052-f702-4b4c-a946-326ecaf271b4",
   "metadata": {
    "tags": []
   },
   "outputs": [
    {
     "data": {
      "text/html": [
       "<div>\n",
       "<style scoped>\n",
       "    .dataframe tbody tr th:only-of-type {\n",
       "        vertical-align: middle;\n",
       "    }\n",
       "\n",
       "    .dataframe tbody tr th {\n",
       "        vertical-align: top;\n",
       "    }\n",
       "\n",
       "    .dataframe thead th {\n",
       "        text-align: right;\n",
       "    }\n",
       "</style>\n",
       "<table border=\"1\" class=\"dataframe\">\n",
       "  <thead>\n",
       "    <tr style=\"text-align: right;\">\n",
       "      <th></th>\n",
       "      <th>Unnamed: 0</th>\n",
       "      <th>Unnamed: 0.1</th>\n",
       "      <th>Unnamed: 0.1.1</th>\n",
       "      <th>Unnamed: 0.1.1.1</th>\n",
       "      <th>Unnamed: 0.1.1.1.1</th>\n",
       "      <th>Unnamed: 0.1.1.1.1.1</th>\n",
       "      <th>id</th>\n",
       "      <th>title</th>\n",
       "      <th>text</th>\n",
       "      <th>num_comments</th>\n",
       "      <th>upvotes</th>\n",
       "      <th>time_posted</th>\n",
       "      <th>time_now</th>\n",
       "      <th>time_delta</th>\n",
       "      <th>subreddit</th>\n",
       "    </tr>\n",
       "  </thead>\n",
       "  <tbody>\n",
       "    <tr>\n",
       "      <th>0</th>\n",
       "      <td>0</td>\n",
       "      <td>0.0</td>\n",
       "      <td>0.0</td>\n",
       "      <td>0.0</td>\n",
       "      <td>0.0</td>\n",
       "      <td>0.0</td>\n",
       "      <td>v2u206</td>\n",
       "      <td>Ukraine's first lady tells ABC News that givin...</td>\n",
       "      <td>NaN</td>\n",
       "      <td>948</td>\n",
       "      <td>24472</td>\n",
       "      <td>1.654124e+09</td>\n",
       "      <td>2022-06-02 03:56:36.604442</td>\n",
       "      <td>0 days 04:58:30.604442</td>\n",
       "      <td>worldnews</td>\n",
       "    </tr>\n",
       "    <tr>\n",
       "      <th>1</th>\n",
       "      <td>1</td>\n",
       "      <td>1.0</td>\n",
       "      <td>1.0</td>\n",
       "      <td>1.0</td>\n",
       "      <td>1.0</td>\n",
       "      <td>1.0</td>\n",
       "      <td>v2tbt6</td>\n",
       "      <td>Apparent active shooter at medical facility in...</td>\n",
       "      <td>NaN</td>\n",
       "      <td>6814</td>\n",
       "      <td>35355</td>\n",
       "      <td>1.654122e+09</td>\n",
       "      <td>2022-06-02 03:56:36.604442</td>\n",
       "      <td>0 days 05:30:12.604442</td>\n",
       "      <td>news</td>\n",
       "    </tr>\n",
       "    <tr>\n",
       "      <th>2</th>\n",
       "      <td>2</td>\n",
       "      <td>2.0</td>\n",
       "      <td>2.0</td>\n",
       "      <td>2.0</td>\n",
       "      <td>2.0</td>\n",
       "      <td>2.0</td>\n",
       "      <td>v2v04f</td>\n",
       "      <td>Dude Throws A Cup Of Urine Into Crowd…..</td>\n",
       "      <td>NaN</td>\n",
       "      <td>888</td>\n",
       "      <td>15804</td>\n",
       "      <td>1.654127e+09</td>\n",
       "      <td>2022-06-02 03:56:36.604442</td>\n",
       "      <td>0 days 04:17:28.604442</td>\n",
       "      <td>WinStupidPrizes</td>\n",
       "    </tr>\n",
       "    <tr>\n",
       "      <th>3</th>\n",
       "      <td>3</td>\n",
       "      <td>3.0</td>\n",
       "      <td>3.0</td>\n",
       "      <td>3.0</td>\n",
       "      <td>3.0</td>\n",
       "      <td>3.0</td>\n",
       "      <td>v2swvd</td>\n",
       "      <td>First night in her forever home!</td>\n",
       "      <td>NaN</td>\n",
       "      <td>508</td>\n",
       "      <td>61769</td>\n",
       "      <td>1.654121e+09</td>\n",
       "      <td>2022-06-02 03:56:36.604442</td>\n",
       "      <td>0 days 05:48:08.604442</td>\n",
       "      <td>MadeMeSmile</td>\n",
       "    </tr>\n",
       "    <tr>\n",
       "      <th>4</th>\n",
       "      <td>4</td>\n",
       "      <td>4.0</td>\n",
       "      <td>4.0</td>\n",
       "      <td>4.0</td>\n",
       "      <td>4.0</td>\n",
       "      <td>4.0</td>\n",
       "      <td>v2sknf</td>\n",
       "      <td>TIL that Napster issued a cease and desist ord...</td>\n",
       "      <td>NaN</td>\n",
       "      <td>791</td>\n",
       "      <td>17264</td>\n",
       "      <td>1.654120e+09</td>\n",
       "      <td>2022-06-02 03:56:36.604442</td>\n",
       "      <td>0 days 06:01:57.604442</td>\n",
       "      <td>todayilearned</td>\n",
       "    </tr>\n",
       "  </tbody>\n",
       "</table>\n",
       "</div>"
      ],
      "text/plain": [
       "   Unnamed: 0  Unnamed: 0.1  Unnamed: 0.1.1  Unnamed: 0.1.1.1  \\\n",
       "0           0           0.0             0.0               0.0   \n",
       "1           1           1.0             1.0               1.0   \n",
       "2           2           2.0             2.0               2.0   \n",
       "3           3           3.0             3.0               3.0   \n",
       "4           4           4.0             4.0               4.0   \n",
       "\n",
       "   Unnamed: 0.1.1.1.1  Unnamed: 0.1.1.1.1.1      id  \\\n",
       "0                 0.0                   0.0  v2u206   \n",
       "1                 1.0                   1.0  v2tbt6   \n",
       "2                 2.0                   2.0  v2v04f   \n",
       "3                 3.0                   3.0  v2swvd   \n",
       "4                 4.0                   4.0  v2sknf   \n",
       "\n",
       "                                               title text  num_comments  \\\n",
       "0  Ukraine's first lady tells ABC News that givin...  NaN           948   \n",
       "1  Apparent active shooter at medical facility in...  NaN          6814   \n",
       "2           Dude Throws A Cup Of Urine Into Crowd…..  NaN           888   \n",
       "3                   First night in her forever home!  NaN           508   \n",
       "4  TIL that Napster issued a cease and desist ord...  NaN           791   \n",
       "\n",
       "   upvotes   time_posted                    time_now              time_delta  \\\n",
       "0    24472  1.654124e+09  2022-06-02 03:56:36.604442  0 days 04:58:30.604442   \n",
       "1    35355  1.654122e+09  2022-06-02 03:56:36.604442  0 days 05:30:12.604442   \n",
       "2    15804  1.654127e+09  2022-06-02 03:56:36.604442  0 days 04:17:28.604442   \n",
       "3    61769  1.654121e+09  2022-06-02 03:56:36.604442  0 days 05:48:08.604442   \n",
       "4    17264  1.654120e+09  2022-06-02 03:56:36.604442  0 days 06:01:57.604442   \n",
       "\n",
       "         subreddit  \n",
       "0        worldnews  \n",
       "1             news  \n",
       "2  WinStupidPrizes  \n",
       "3      MadeMeSmile  \n",
       "4    todayilearned  "
      ]
     },
     "execution_count": 2,
     "metadata": {},
     "output_type": "execute_result"
    }
   ],
   "source": [
    "pd.read_csv('../Project_csv_files/project_3_scraped_dataframe.csv').shape\n",
    "db = pd.read_csv('../Project_csv_files/project_3_scraped_dataframe.csv')\n",
    "db.head()"
   ]
  },
  {
   "cell_type": "code",
   "execution_count": 3,
   "id": "07599e6b-bfc5-4695-a132-58e4475a0b39",
   "metadata": {},
   "outputs": [
    {
     "name": "stdout",
     "output_type": "stream",
     "text": [
      "count    22758.000000\n",
      "mean        64.083795\n",
      "std        386.333085\n",
      "min          0.000000\n",
      "25%          7.000000\n",
      "50%         18.000000\n",
      "75%         47.000000\n",
      "max      28964.000000\n",
      "Name: num_comments, dtype: float64\n"
     ]
    },
    {
     "data": {
      "image/png": "[encoded data removed]",
      "text/plain": [
       "<Figure size 432x288 with 1 Axes>"
      ]
     },
     "metadata": {
      "needs_background": "light"
     },
     "output_type": "display_data"
    }
   ],
   "source": [
    "print(db.num_comments.describe())\n",
    "sns.histplot(db.num_comments,log_scale=(False,True),bins=50).set(title='number of comments outliers hisplot')\n",
    "plt.savefig('num_coms_outliers_histplot.png');"
   ]
  },
  {
   "cell_type": "markdown",
   "id": "0f7ea769-ba12-4917-b2b8-6da52c1a10ae",
   "metadata": {},
   "source": [
    "- Here we can see the number of comments each post has. \n",
    "- On the bottom of the graph you can see outliers that are past 5,000 to 28,000.\n",
    "- We dont want these as they are abnormal and arent consistent like the other posts that have 0-5000 comments per post."
   ]
  },
  {
   "cell_type": "code",
   "execution_count": 4,
   "id": "99db9421-a4d7-496a-93df-453ed686083d",
   "metadata": {
    "tags": []
   },
   "outputs": [
    {
     "data": {
      "text/html": [
       "<div>\n",
       "<style scoped>\n",
       "    .dataframe tbody tr th:only-of-type {\n",
       "        vertical-align: middle;\n",
       "    }\n",
       "\n",
       "    .dataframe tbody tr th {\n",
       "        vertical-align: top;\n",
       "    }\n",
       "\n",
       "    .dataframe thead th {\n",
       "        text-align: right;\n",
       "    }\n",
       "</style>\n",
       "<table border=\"1\" class=\"dataframe\">\n",
       "  <thead>\n",
       "    <tr style=\"text-align: right;\">\n",
       "      <th></th>\n",
       "      <th>index</th>\n",
       "      <th>Unnamed: 0</th>\n",
       "      <th>Unnamed: 0.1</th>\n",
       "      <th>Unnamed: 0.1.1</th>\n",
       "      <th>Unnamed: 0.1.1.1</th>\n",
       "      <th>Unnamed: 0.1.1.1.1</th>\n",
       "      <th>Unnamed: 0.1.1.1.1.1</th>\n",
       "      <th>id</th>\n",
       "      <th>title</th>\n",
       "      <th>text</th>\n",
       "      <th>num_comments</th>\n",
       "      <th>upvotes</th>\n",
       "      <th>time_posted</th>\n",
       "      <th>time_now</th>\n",
       "      <th>time_delta</th>\n",
       "      <th>subreddit</th>\n",
       "    </tr>\n",
       "  </thead>\n",
       "  <tbody>\n",
       "    <tr>\n",
       "      <th>85</th>\n",
       "      <td>87</td>\n",
       "      <td>87</td>\n",
       "      <td>87.0</td>\n",
       "      <td>87.0</td>\n",
       "      <td>87.0</td>\n",
       "      <td>87.0</td>\n",
       "      <td>87.0</td>\n",
       "      <td>v2lpdw</td>\n",
       "      <td>Elon Musk just asked all employees to return t...</td>\n",
       "      <td>Elon Musk just emailed everyone “you are expec...</td>\n",
       "      <td>1717</td>\n",
       "      <td>11477</td>\n",
       "      <td>1.654103e+09</td>\n",
       "      <td>2022-06-02 03:56:36.604442</td>\n",
       "      <td>0 days 10:55:52.604442</td>\n",
       "      <td>cscareerquestions</td>\n",
       "    </tr>\n",
       "    <tr>\n",
       "      <th>88</th>\n",
       "      <td>90</td>\n",
       "      <td>90</td>\n",
       "      <td>90.0</td>\n",
       "      <td>90.0</td>\n",
       "      <td>90.0</td>\n",
       "      <td>90.0</td>\n",
       "      <td>90.0</td>\n",
       "      <td>v2lbwd</td>\n",
       "      <td>I just demanded that my doctor provide me with...</td>\n",
       "      <td>**Edit: I’m talking about a colposcopy, not a ...</td>\n",
       "      <td>1761</td>\n",
       "      <td>18370</td>\n",
       "      <td>1.654102e+09</td>\n",
       "      <td>2022-06-02 03:56:36.604442</td>\n",
       "      <td>0 days 11:11:58.604442</td>\n",
       "      <td>TwoXChromosomes</td>\n",
       "    </tr>\n",
       "    <tr>\n",
       "      <th>106</th>\n",
       "      <td>109</td>\n",
       "      <td>109</td>\n",
       "      <td>109.0</td>\n",
       "      <td>109.0</td>\n",
       "      <td>109.0</td>\n",
       "      <td>109.0</td>\n",
       "      <td>109.0</td>\n",
       "      <td>v2waae</td>\n",
       "      <td>Dogs can smell COVID infections in patients, w...</td>\n",
       "      <td>You'd just have to build a detector sensitive ...</td>\n",
       "      <td>250</td>\n",
       "      <td>1689</td>\n",
       "      <td>1.654130e+09</td>\n",
       "      <td>2022-06-02 03:56:38.965942</td>\n",
       "      <td>0 days 03:17:15.965942</td>\n",
       "      <td>askscience</td>\n",
       "    </tr>\n",
       "    <tr>\n",
       "      <th>126</th>\n",
       "      <td>129</td>\n",
       "      <td>129</td>\n",
       "      <td>129.0</td>\n",
       "      <td>129.0</td>\n",
       "      <td>129.0</td>\n",
       "      <td>129.0</td>\n",
       "      <td>129.0</td>\n",
       "      <td>v2qnt1</td>\n",
       "      <td>In-laws constantly berate my baking skills in ...</td>\n",
       "      <td>I posted this on r/AmITheAsshole and was told ...</td>\n",
       "      <td>174</td>\n",
       "      <td>3358</td>\n",
       "      <td>1.654116e+09</td>\n",
       "      <td>2022-06-02 03:56:38.965942</td>\n",
       "      <td>0 days 07:24:16.965942</td>\n",
       "      <td>pettyrevenge</td>\n",
       "    </tr>\n",
       "    <tr>\n",
       "      <th>134</th>\n",
       "      <td>137</td>\n",
       "      <td>137</td>\n",
       "      <td>137.0</td>\n",
       "      <td>137.0</td>\n",
       "      <td>137.0</td>\n",
       "      <td>137.0</td>\n",
       "      <td>137.0</td>\n",
       "      <td>v2p39d</td>\n",
       "      <td>Pretty sure I’m in love with my roommate and I...</td>\n",
       "      <td>I am NOT OP, this is a repost. [Original](http...</td>\n",
       "      <td>266</td>\n",
       "      <td>3996</td>\n",
       "      <td>1.654112e+09</td>\n",
       "      <td>2022-06-02 03:56:38.965942</td>\n",
       "      <td>0 days 08:30:58.965942</td>\n",
       "      <td>BestofRedditorUpdates</td>\n",
       "    </tr>\n",
       "    <tr>\n",
       "      <th>...</th>\n",
       "      <td>...</td>\n",
       "      <td>...</td>\n",
       "      <td>...</td>\n",
       "      <td>...</td>\n",
       "      <td>...</td>\n",
       "      <td>...</td>\n",
       "      <td>...</td>\n",
       "      <td>...</td>\n",
       "      <td>...</td>\n",
       "      <td>...</td>\n",
       "      <td>...</td>\n",
       "      <td>...</td>\n",
       "      <td>...</td>\n",
       "      <td>...</td>\n",
       "      <td>...</td>\n",
       "      <td>...</td>\n",
       "    </tr>\n",
       "    <tr>\n",
       "      <th>7238</th>\n",
       "      <td>7249</td>\n",
       "      <td>7249</td>\n",
       "      <td>7249.0</td>\n",
       "      <td>7249.0</td>\n",
       "      <td>7249.0</td>\n",
       "      <td>7255.0</td>\n",
       "      <td>7255.0</td>\n",
       "      <td>v2rq2r</td>\n",
       "      <td>thanks ceo matt furlong we love you too</td>\n",
       "      <td>Matt furlong said we mattered on the earnings ...</td>\n",
       "      <td>23</td>\n",
       "      <td>304</td>\n",
       "      <td>1.654118e+09</td>\n",
       "      <td>2022-06-02 03:59:25.926828</td>\n",
       "      <td>0 days 06:41:24.926828</td>\n",
       "      <td>Superstonk</td>\n",
       "    </tr>\n",
       "    <tr>\n",
       "      <th>7240</th>\n",
       "      <td>7251</td>\n",
       "      <td>7251</td>\n",
       "      <td>7251.0</td>\n",
       "      <td>7251.0</td>\n",
       "      <td>7251.0</td>\n",
       "      <td>7257.0</td>\n",
       "      <td>7257.0</td>\n",
       "      <td>v2xoqg</td>\n",
       "      <td>When they insult you with tomorrow’s complimen...</td>\n",
       "      <td>Let’s talk about memes from a linguistic stan...</td>\n",
       "      <td>12</td>\n",
       "      <td>125</td>\n",
       "      <td>1.654135e+09</td>\n",
       "      <td>2022-06-02 03:59:25.926828</td>\n",
       "      <td>0 days 02:10:07.926828</td>\n",
       "      <td>Superstonk</td>\n",
       "    </tr>\n",
       "    <tr>\n",
       "      <th>7261</th>\n",
       "      <td>7272</td>\n",
       "      <td>7272</td>\n",
       "      <td>7272.0</td>\n",
       "      <td>7272.0</td>\n",
       "      <td>7272.0</td>\n",
       "      <td>7278.0</td>\n",
       "      <td>7278.0</td>\n",
       "      <td>v2uebo</td>\n",
       "      <td>50,000 shares DRS’d/day for 76 days straight???</td>\n",
       "      <td>Am I retarded, or does that math actually chec...</td>\n",
       "      <td>24</td>\n",
       "      <td>183</td>\n",
       "      <td>1.654125e+09</td>\n",
       "      <td>2022-06-02 03:59:25.926828</td>\n",
       "      <td>0 days 04:46:11.926828</td>\n",
       "      <td>Superstonk</td>\n",
       "    </tr>\n",
       "    <tr>\n",
       "      <th>7267</th>\n",
       "      <td>7278</td>\n",
       "      <td>7278</td>\n",
       "      <td>7278.0</td>\n",
       "      <td>7278.0</td>\n",
       "      <td>7278.0</td>\n",
       "      <td>7284.0</td>\n",
       "      <td>7284.0</td>\n",
       "      <td>v2uop4</td>\n",
       "      <td>HOLY MOLY! Missed this but Netherlands school ...</td>\n",
       "      <td>&amp;#x200B;\\n\\nhttps://preview.redd.it/k85s8xvnc3...</td>\n",
       "      <td>10</td>\n",
       "      <td>173</td>\n",
       "      <td>1.654126e+09</td>\n",
       "      <td>2022-06-02 03:59:25.926828</td>\n",
       "      <td>0 days 04:33:57.926828</td>\n",
       "      <td>Superstonk</td>\n",
       "    </tr>\n",
       "    <tr>\n",
       "      <th>7286</th>\n",
       "      <td>7297</td>\n",
       "      <td>7297</td>\n",
       "      <td>7297.0</td>\n",
       "      <td>7297.0</td>\n",
       "      <td>7297.0</td>\n",
       "      <td>7303.0</td>\n",
       "      <td>7303.0</td>\n",
       "      <td>v2qng7</td>\n",
       "      <td>Entire Gamestop site is down. Guess everyone i...</td>\n",
       "      <td>Just got an email about some sales they were h...</td>\n",
       "      <td>31</td>\n",
       "      <td>288</td>\n",
       "      <td>1.654116e+09</td>\n",
       "      <td>2022-06-02 03:59:26.346021</td>\n",
       "      <td>0 days 07:27:29.346021</td>\n",
       "      <td>Superstonk</td>\n",
       "    </tr>\n",
       "  </tbody>\n",
       "</table>\n",
       "<p>350 rows × 16 columns</p>\n",
       "</div>"
      ],
      "text/plain": [
       "      index  Unnamed: 0  Unnamed: 0.1  Unnamed: 0.1.1  Unnamed: 0.1.1.1  \\\n",
       "85       87          87          87.0            87.0              87.0   \n",
       "88       90          90          90.0            90.0              90.0   \n",
       "106     109         109         109.0           109.0             109.0   \n",
       "126     129         129         129.0           129.0             129.0   \n",
       "134     137         137         137.0           137.0             137.0   \n",
       "...     ...         ...           ...             ...               ...   \n",
       "7238   7249        7249        7249.0          7249.0            7249.0   \n",
       "7240   7251        7251        7251.0          7251.0            7251.0   \n",
       "7261   7272        7272        7272.0          7272.0            7272.0   \n",
       "7267   7278        7278        7278.0          7278.0            7278.0   \n",
       "7286   7297        7297        7297.0          7297.0            7297.0   \n",
       "\n",
       "      Unnamed: 0.1.1.1.1  Unnamed: 0.1.1.1.1.1      id  \\\n",
       "85                  87.0                  87.0  v2lpdw   \n",
       "88                  90.0                  90.0  v2lbwd   \n",
       "106                109.0                 109.0  v2waae   \n",
       "126                129.0                 129.0  v2qnt1   \n",
       "134                137.0                 137.0  v2p39d   \n",
       "...                  ...                   ...     ...   \n",
       "7238              7255.0                7255.0  v2rq2r   \n",
       "7240              7257.0                7257.0  v2xoqg   \n",
       "7261              7278.0                7278.0  v2uebo   \n",
       "7267              7284.0                7284.0  v2uop4   \n",
       "7286              7303.0                7303.0  v2qng7   \n",
       "\n",
       "                                                  title  \\\n",
       "85    Elon Musk just asked all employees to return t...   \n",
       "88    I just demanded that my doctor provide me with...   \n",
       "106   Dogs can smell COVID infections in patients, w...   \n",
       "126   In-laws constantly berate my baking skills in ...   \n",
       "134   Pretty sure I’m in love with my roommate and I...   \n",
       "...                                                 ...   \n",
       "7238            thanks ceo matt furlong we love you too   \n",
       "7240  When they insult you with tomorrow’s complimen...   \n",
       "7261    50,000 shares DRS’d/day for 76 days straight???   \n",
       "7267  HOLY MOLY! Missed this but Netherlands school ...   \n",
       "7286  Entire Gamestop site is down. Guess everyone i...   \n",
       "\n",
       "                                                   text  num_comments  \\\n",
       "85    Elon Musk just emailed everyone “you are expec...          1717   \n",
       "88    **Edit: I’m talking about a colposcopy, not a ...          1761   \n",
       "106   You'd just have to build a detector sensitive ...           250   \n",
       "126   I posted this on r/AmITheAsshole and was told ...           174   \n",
       "134   I am NOT OP, this is a repost. [Original](http...           266   \n",
       "...                                                 ...           ...   \n",
       "7238  Matt furlong said we mattered on the earnings ...            23   \n",
       "7240   Let’s talk about memes from a linguistic stan...            12   \n",
       "7261  Am I retarded, or does that math actually chec...            24   \n",
       "7267  &#x200B;\\n\\nhttps://preview.redd.it/k85s8xvnc3...            10   \n",
       "7286  Just got an email about some sales they were h...            31   \n",
       "\n",
       "      upvotes   time_posted                    time_now  \\\n",
       "85      11477  1.654103e+09  2022-06-02 03:56:36.604442   \n",
       "88      18370  1.654102e+09  2022-06-02 03:56:36.604442   \n",
       "106      1689  1.654130e+09  2022-06-02 03:56:38.965942   \n",
       "126      3358  1.654116e+09  2022-06-02 03:56:38.965942   \n",
       "134      3996  1.654112e+09  2022-06-02 03:56:38.965942   \n",
       "...       ...           ...                         ...   \n",
       "7238      304  1.654118e+09  2022-06-02 03:59:25.926828   \n",
       "7240      125  1.654135e+09  2022-06-02 03:59:25.926828   \n",
       "7261      183  1.654125e+09  2022-06-02 03:59:25.926828   \n",
       "7267      173  1.654126e+09  2022-06-02 03:59:25.926828   \n",
       "7286      288  1.654116e+09  2022-06-02 03:59:26.346021   \n",
       "\n",
       "                  time_delta              subreddit  \n",
       "85    0 days 10:55:52.604442      cscareerquestions  \n",
       "88    0 days 11:11:58.604442        TwoXChromosomes  \n",
       "106   0 days 03:17:15.965942             askscience  \n",
       "126   0 days 07:24:16.965942           pettyrevenge  \n",
       "134   0 days 08:30:58.965942  BestofRedditorUpdates  \n",
       "...                      ...                    ...  \n",
       "7238  0 days 06:41:24.926828             Superstonk  \n",
       "7240  0 days 02:10:07.926828             Superstonk  \n",
       "7261  0 days 04:46:11.926828             Superstonk  \n",
       "7267  0 days 04:33:57.926828             Superstonk  \n",
       "7286  0 days 07:27:29.346021             Superstonk  \n",
       "\n",
       "[350 rows x 16 columns]"
      ]
     },
     "execution_count": 4,
     "metadata": {},
     "output_type": "execute_result"
    },
    {
     "data": {
      "image/png": "[encoded data removed]",
      "text/plain": [
       "<Figure size 432x288 with 1 Axes>"
      ]
     },
     "metadata": {
      "needs_background": "light"
     },
     "output_type": "display_data"
    }
   ],
   "source": [
    "db['num_comments'].plot(kind='box', title='number of comments outliers boxplot')\n",
    "plt.savefig('num_coms_outliers_boxplot.png');\n",
    "\n",
    "db = db[db.num_comments < 5000]\n",
    "db.reset_index(inplace=True)\n",
    "db.dropna()"
   ]
  },
  {
   "cell_type": "markdown",
   "id": "bb97557d-4d2e-485c-9148-0a2be0a0c80a",
   "metadata": {},
   "source": [
    "- We want to keep the outliers to a more realistic bare minimum, we will create a filter to get rid of any post that has 5000+ comments, they are considered noise and will make our model scores less accurate.\n",
    "- We will also drop all the NA's to make sure our model will not have "
   ]
  },
  {
   "cell_type": "code",
   "execution_count": 5,
   "id": "d83b88d5-012e-46bd-9dab-989e6538874f",
   "metadata": {},
   "outputs": [
    {
     "name": "stdout",
     "output_type": "stream",
     "text": [
      "0.9504880837217483\n"
     ]
    }
   ],
   "source": [
    "print(db.text.isnull().sum()/db.shape[0])"
   ]
  },
  {
   "cell_type": "markdown",
   "id": "5230c1dd-d40c-4b50-ad7f-14f400c916a2",
   "metadata": {},
   "source": [
    "- Text column is 95% null values, meaning 95% of the posts have no text, so we will drop this column as it is practically useless to throw in the model. "
   ]
  },
  {
   "cell_type": "markdown",
   "id": "05a60969-3f14-445c-83a5-9228ed3854f4",
   "metadata": {},
   "source": [
    "- Unnamed columns are just irrelevent stuff from appending and scraped csv"
   ]
  },
  {
   "cell_type": "markdown",
   "id": "4b6cf8eb-a129-4d35-bb98-82a1ca494522",
   "metadata": {},
   "source": [
    " "
   ]
  },
  {
   "cell_type": "markdown",
   "id": "f63eface-f6ca-4b2a-8184-ed348c13f072",
   "metadata": {},
   "source": [
    " "
   ]
  },
  {
   "cell_type": "markdown",
   "id": "fac7ce68-f76b-42b4-8956-6f603fdb9cca",
   "metadata": {
    "tags": []
   },
   "source": [
    "## Creating a new DataFrame(df) from DataBase(db) only including the index rows I want to use."
   ]
  },
  {
   "cell_type": "code",
   "execution_count": 6,
   "id": "00ef7a73-4e73-4949-9e05-24f09bd98bba",
   "metadata": {},
   "outputs": [],
   "source": [
    "df = db[['title', 'subreddit','num_comments','time_posted']].dropna()"
   ]
  },
  {
   "cell_type": "markdown",
   "id": "be1f3940-3da5-430d-9a9d-9e9e723ca005",
   "metadata": {
    "tags": []
   },
   "source": [
    "## Cleaning Title in df"
   ]
  },
  {
   "cell_type": "markdown",
   "id": "9c26f176-e4f5-4b6b-afa6-998be6e0f560",
   "metadata": {},
   "source": [
    "https://pypi.org/project/clean-text/"
   ]
  },
  {
   "cell_type": "code",
   "execution_count": 7,
   "id": "2df86394-67f9-4525-836b-6203996b52f5",
   "metadata": {},
   "outputs": [
    {
     "data": {
      "text/html": [
       "<div>\n",
       "<style scoped>\n",
       "    .dataframe tbody tr th:only-of-type {\n",
       "        vertical-align: middle;\n",
       "    }\n",
       "\n",
       "    .dataframe tbody tr th {\n",
       "        vertical-align: top;\n",
       "    }\n",
       "\n",
       "    .dataframe thead th {\n",
       "        text-align: right;\n",
       "    }\n",
       "</style>\n",
       "<table border=\"1\" class=\"dataframe\">\n",
       "  <thead>\n",
       "    <tr style=\"text-align: right;\">\n",
       "      <th></th>\n",
       "      <th>title</th>\n",
       "      <th>subreddit</th>\n",
       "      <th>num_comments</th>\n",
       "      <th>time_posted</th>\n",
       "    </tr>\n",
       "  </thead>\n",
       "  <tbody>\n",
       "    <tr>\n",
       "      <th>0</th>\n",
       "      <td>ukraine's first lady tells abc news that givin...</td>\n",
       "      <td>worldnews</td>\n",
       "      <td>948</td>\n",
       "      <td>1.654124e+09</td>\n",
       "    </tr>\n",
       "    <tr>\n",
       "      <th>1</th>\n",
       "      <td>dude throws a cup of urine into crowd.....</td>\n",
       "      <td>WinStupidPrizes</td>\n",
       "      <td>888</td>\n",
       "      <td>1.654127e+09</td>\n",
       "    </tr>\n",
       "    <tr>\n",
       "      <th>2</th>\n",
       "      <td>first night in her forever home!</td>\n",
       "      <td>MadeMeSmile</td>\n",
       "      <td>508</td>\n",
       "      <td>1.654121e+09</td>\n",
       "    </tr>\n",
       "    <tr>\n",
       "      <th>3</th>\n",
       "      <td>til that napster issued a cease and desist ord...</td>\n",
       "      <td>todayilearned</td>\n",
       "      <td>791</td>\n",
       "      <td>1.654120e+09</td>\n",
       "    </tr>\n",
       "    <tr>\n",
       "      <th>4</th>\n",
       "      <td>[oc] a pic i took of my husband with all the b...</td>\n",
       "      <td>pics</td>\n",
       "      <td>3584</td>\n",
       "      <td>1.654119e+09</td>\n",
       "    </tr>\n",
       "    <tr>\n",
       "      <th>5</th>\n",
       "      <td>always carry bear spray when you're in their t...</td>\n",
       "      <td>ThatsInsane</td>\n",
       "      <td>907</td>\n",
       "      <td>1.654127e+09</td>\n",
       "    </tr>\n",
       "    <tr>\n",
       "      <th>6</th>\n",
       "      <td>an interesting take on our justice system</td>\n",
       "      <td>WhitePeopleTwitter</td>\n",
       "      <td>113</td>\n",
       "      <td>1.654124e+09</td>\n",
       "    </tr>\n",
       "    <tr>\n",
       "      <th>7</th>\n",
       "      <td>married couple in harlem, nyc in the early 195...</td>\n",
       "      <td>OldSchoolCool</td>\n",
       "      <td>96</td>\n",
       "      <td>1.654126e+09</td>\n",
       "    </tr>\n",
       "    <tr>\n",
       "      <th>8</th>\n",
       "      <td>it's necessary to suppress the poor voters, duh!</td>\n",
       "      <td>facepalm</td>\n",
       "      <td>826</td>\n",
       "      <td>1.654120e+09</td>\n",
       "    </tr>\n",
       "    <tr>\n",
       "      <th>9</th>\n",
       "      <td>welcome to the casino, amber!</td>\n",
       "      <td>wallstreetbets</td>\n",
       "      <td>258</td>\n",
       "      <td>1.654124e+09</td>\n",
       "    </tr>\n",
       "  </tbody>\n",
       "</table>\n",
       "</div>"
      ],
      "text/plain": [
       "                                               title           subreddit  \\\n",
       "0  ukraine's first lady tells abc news that givin...           worldnews   \n",
       "1         dude throws a cup of urine into crowd.....     WinStupidPrizes   \n",
       "2                   first night in her forever home!         MadeMeSmile   \n",
       "3  til that napster issued a cease and desist ord...       todayilearned   \n",
       "4  [oc] a pic i took of my husband with all the b...                pics   \n",
       "5  always carry bear spray when you're in their t...         ThatsInsane   \n",
       "6          an interesting take on our justice system  WhitePeopleTwitter   \n",
       "7  married couple in harlem, nyc in the early 195...       OldSchoolCool   \n",
       "8   it's necessary to suppress the poor voters, duh!            facepalm   \n",
       "9                      welcome to the casino, amber!      wallstreetbets   \n",
       "\n",
       "   num_comments   time_posted  \n",
       "0           948  1.654124e+09  \n",
       "1           888  1.654127e+09  \n",
       "2           508  1.654121e+09  \n",
       "3           791  1.654120e+09  \n",
       "4          3584  1.654119e+09  \n",
       "5           907  1.654127e+09  \n",
       "6           113  1.654124e+09  \n",
       "7            96  1.654126e+09  \n",
       "8           826  1.654120e+09  \n",
       "9           258  1.654124e+09  "
      ]
     },
     "execution_count": 7,
     "metadata": {},
     "output_type": "execute_result"
    }
   ],
   "source": [
    "df['title'] = [clean(title,\n",
    "                    fix_unicode=True,               # fix various unicode errors\n",
    "                    to_ascii=True,                  # transliterate to closest ASCII representation\n",
    "                    lower=True,                     # lowercase text\n",
    "                    no_line_breaks=False,           # fully strip line breaks as opposed to only normalizing them\n",
    "                    no_urls=False,                  # replace all URLs with a special token\n",
    "                    no_emails=False,                # replace all email addresses with a special token\n",
    "                    no_phone_numbers=False,         # replace all phone numbers with a special token\n",
    "                    no_numbers=False,               # replace all numbers with a special token\n",
    "                    no_digits=False,                # replace all digits with a special token\n",
    "                    no_currency_symbols=False,      # replace all currency symbols with a special token\n",
    "                    no_punct=False,                 # remove punctuations\n",
    "                    replace_with_punct=\"\",          # instead of removing punctuations you may replace them\n",
    "                    replace_with_url=\"<URL>\",\n",
    "                    replace_with_email=\"<EMAIL>\",\n",
    "                    replace_with_phone_number=\"<PHONE>\",\n",
    "                    replace_with_number=\"<NUMBER>\",\n",
    "                    replace_with_digit=\"0\",\n",
    "                    replace_with_currency_symbol=\"<CUR>\",\n",
    "                    lang=\"en\"         \n",
    "                   )for title in df['title']]\n",
    "df.head(10)"
   ]
  },
  {
   "cell_type": "markdown",
   "id": "ba722102-ec64-4327-b5f0-75c3603284c1",
   "metadata": {},
   "source": [
    "Referencing link where I got this function to clean my df"
   ]
  },
  {
   "cell_type": "markdown",
   "id": "4cb0b5a2-49ee-41e0-9f2a-ce31eabf94e8",
   "metadata": {},
   "source": [
    "This will get rid of unecessary weight in the title such as:\n",
    "- fix various unicode errors\n",
    "- transliterate to closest ASCII representation\n",
    "- lowercase text\n",
    "- fully strip line breaks as opposed to only normalizing them\n",
    "- replace all URLs with a special token\n",
    "- replace all email addresses with a special token\n",
    "- replace all phone numbers with a special token\n",
    "- replace all numbers with a special token\n",
    "- replace all digits with a special token\n",
    "- replace all currency symbols with a special token\n",
    "- remove punctuations\n",
    "- instead of removing punctuations you may replace them"
   ]
  },
  {
   "cell_type": "markdown",
   "id": "36e95453-378d-46d1-9e9a-033bf7301a7a",
   "metadata": {},
   "source": [
    " "
   ]
  },
  {
   "cell_type": "markdown",
   "id": "09e6337c-b604-462a-8e63-7be395e39b49",
   "metadata": {},
   "source": [
    " "
   ]
  },
  {
   "cell_type": "markdown",
   "id": "4123e79b-7674-468f-95ea-4610de1b4ce6",
   "metadata": {},
   "source": [
    "**Dropped emojis in title column**"
   ]
  },
  {
   "cell_type": "markdown",
   "id": "b3c03531-cd85-4f28-90f8-b57e59ceab31",
   "metadata": {},
   "source": [
    "https://www.educative.io/edpresso/how-to-remove-emoji-from-the-text-in-python"
   ]
  },
  {
   "cell_type": "code",
   "execution_count": 8,
   "id": "1131827f-3781-46ff-95ca-cb6b7887747f",
   "metadata": {},
   "outputs": [],
   "source": [
    "df['title'] = [clean(title, no_emoji=True) for title in df['title']]"
   ]
  },
  {
   "cell_type": "markdown",
   "id": "e5bc2d67-9052-4ef9-87bb-c9a4d412b816",
   "metadata": {},
   "source": [
    "- link above referencing to the comprehension list used to remove emojis (above)\n",
    "- I wont be needing emoji's wont really do much in my model, most likely mess up my model scores too."
   ]
  },
  {
   "cell_type": "markdown",
   "id": "803ccc1e-fcea-48a3-a755-a9ed763411bf",
   "metadata": {},
   "source": [
    " "
   ]
  },
  {
   "cell_type": "markdown",
   "id": "6ea674ab-bf6d-4668-9039-630eb11b6238",
   "metadata": {},
   "source": [
    " "
   ]
  },
  {
   "cell_type": "markdown",
   "id": "b4f695f2-fc2e-4834-92e6-05b620637c50",
   "metadata": {},
   "source": [
    "**Converting time_posted**"
   ]
  },
  {
   "cell_type": "code",
   "execution_count": 9,
   "id": "11f35427-d492-43bf-8afc-38dfa3afbfc3",
   "metadata": {},
   "outputs": [],
   "source": [
    "# convert times\n",
    "df['time_posted'] = df.time_posted.apply(lambda x: datetime.datetime.utcfromtimestamp(x))\n",
    "[df.time_posted[0].timestamp()]\n",
    "df['time_posted'] = [time.timestamp() for time in df['time_posted']]"
   ]
  },
  {
   "cell_type": "markdown",
   "id": "08d59708-2146-4285-87a9-f23079aabcd9",
   "metadata": {},
   "source": [
    "- converting time_posted to utc time, making time_posted dtype a float so will run in my models."
   ]
  },
  {
   "cell_type": "markdown",
   "id": "858c2869-4657-45d6-88f2-47998a646e81",
   "metadata": {},
   "source": [
    " "
   ]
  },
  {
   "cell_type": "markdown",
   "id": "2b54c9d0-67f5-42d5-8e65-4eab9aaaec41",
   "metadata": {},
   "source": [
    " "
   ]
  },
  {
   "cell_type": "markdown",
   "id": "f4cbdee5-bb71-44b0-a61f-f17bf2e83da1",
   "metadata": {},
   "source": [
    "**dummy subreddit**"
   ]
  },
  {
   "cell_type": "markdown",
   "id": "fce4eeaa-4cf0-41d8-8437-c8e69b237a2b",
   "metadata": {},
   "source": [
    "- Only using the top 10 subreddits as 3000+ index rows is going to be extra unecessary noise and will make the models run slower.\n",
    "- Dummify subreddit to 0' and 1's so the model can process it and get a score."
   ]
  },
  {
   "cell_type": "code",
   "execution_count": 10,
   "id": "2a559bd6-6b78-4826-a12d-9a2e00d67a9c",
   "metadata": {},
   "outputs": [
    {
     "data": {
      "text/plain": [
       "Index(['AskReddit', 'RoastMe', 'unpopularopinion', 'OutOfTheLoop',\n",
       "       'NoStupidQuestions', 'clevercomebacks', 'cscareerquestions', 'dndnext',\n",
       "       'videos', 'tulsa'],\n",
       "      dtype='object', name='subreddit')"
      ]
     },
     "execution_count": 10,
     "metadata": {},
     "output_type": "execute_result"
    }
   ],
   "source": [
    "df.num_comments.sort_values(ascending=False) \n",
    "\n",
    "subreddit_top10 = df.groupby('subreddit').mean().sort_values('num_comments', ascending=False)['num_comments'][:10]\n",
    "top10 = [sub for sub in subreddit_top10.index]\n",
    "\n",
    "subreddit_top10.index"
   ]
  },
  {
   "cell_type": "markdown",
   "id": "f79c8ba0-714d-4b47-89ea-d2f2cc6a00e5",
   "metadata": {},
   "source": [
    "- **Top 10 subreddits are above**"
   ]
  },
  {
   "cell_type": "markdown",
   "id": "a2628ccf-f23f-4cb4-aecb-e4ae2e6e7e25",
   "metadata": {},
   "source": [
    " "
   ]
  },
  {
   "cell_type": "markdown",
   "id": "1dc10355-4884-4547-bae4-7117254d3d5c",
   "metadata": {},
   "source": [
    " "
   ]
  },
  {
   "cell_type": "markdown",
   "id": "3f640b4e-0f6a-433f-9976-5460b799651e",
   "metadata": {},
   "source": [
    "**grabbing top 10 subreddits**"
   ]
  },
  {
   "cell_type": "code",
   "execution_count": 11,
   "id": "1686224c-5725-45d2-81fa-d7dbb1dd513b",
   "metadata": {},
   "outputs": [],
   "source": [
    "dum = pd.get_dummies(df, columns=['subreddit'], drop_first=True)\n",
    "top10_filter = [col for col in dum.columns if col.replace('subreddit_', '') in top10]\n",
    "dum = dum[top10_filter]"
   ]
  },
  {
   "cell_type": "markdown",
   "id": "23090ef0-5a0e-4567-8c35-49c773fe6cb0",
   "metadata": {},
   "source": [
    "- Top 10 subreddits will be used in the subreddit and discarding the rest as too much noise for the models."
   ]
  },
  {
   "cell_type": "markdown",
   "id": "30301144-f211-47a7-a1a3-bbc7a405497a",
   "metadata": {},
   "source": [
    " "
   ]
  },
  {
   "cell_type": "markdown",
   "id": "ed16a7ee-cd89-46e2-b41d-a29fc78d4c53",
   "metadata": {},
   "source": [
    " "
   ]
  },
  {
   "cell_type": "markdown",
   "id": "803aca00-95bb-4e5d-b55d-4db0da82dbd8",
   "metadata": {},
   "source": [
    "**Lemmatizing title**"
   ]
  },
  {
   "cell_type": "markdown",
   "id": "129219ca-b0f8-41ca-9615-17f944c0ba83",
   "metadata": {},
   "source": [
    "- Grouping together words, converts words into their base forms.\n",
    "- The aim is to take away inflectional suffixes and prefixes to bring out the word’s dictionary form.\n",
    "- Creating nlp library, aka spacy"
   ]
  },
  {
   "cell_type": "code",
   "execution_count": 12,
   "id": "2445e03c-f32f-45e4-921c-414e4f843a23",
   "metadata": {},
   "outputs": [],
   "source": [
    "nlp = spacy.load('en_core_web_sm')"
   ]
  },
  {
   "cell_type": "markdown",
   "id": "3b779a2c-8e37-44f3-9b36-c935fa44f60a",
   "metadata": {},
   "source": [
    "- Lemmatize title."
   ]
  },
  {
   "cell_type": "code",
   "execution_count": 13,
   "id": "2cea121b-63db-44af-87b8-e344b3281cdf",
   "metadata": {},
   "outputs": [],
   "source": [
    "df['lemmatized_title'] = [' '.join([word.lemma_ for word in nlp(title)]) for title in df['title']]\n",
    "\n",
    "final_df = df.join(dum).drop('subreddit', axis=1)"
   ]
  },
  {
   "cell_type": "markdown",
   "id": "0dacb07e-0437-40c5-b2b5-6f2283729cf4",
   "metadata": {},
   "source": [
    " "
   ]
  },
  {
   "cell_type": "markdown",
   "id": "ff04f1ba-4f35-4e70-945c-09c64359f714",
   "metadata": {},
   "source": [
    " "
   ]
  },
  {
   "cell_type": "markdown",
   "id": "fdcc1796-9b26-484d-8302-58de5cb5d163",
   "metadata": {},
   "source": [
    " "
   ]
  },
  {
   "cell_type": "markdown",
   "id": "bdbf3cca-1757-44c6-af56-5c11ca7ba62d",
   "metadata": {},
   "source": [
    "---\n",
    "# Creating X"
   ]
  },
  {
   "cell_type": "markdown",
   "id": "6f4e3ca1-4c5a-46a7-9d2c-d7cf537683a5",
   "metadata": {
    "tags": []
   },
   "source": [
    "### Instantiate Tfid Vecotrizing \n",
    "- Common words are penalized\n",
    "- Rare words have more influence\n",
    "- Eliminate 'stop_words' to improve our analysis. \n",
    "- If you pass, say, 100 to max_features, that would mean creating a feature matrix out of the most 100 frequent words accross text documents.\n",
    "  Which is what the model will work with.\n",
    "#\n",
    "- The new DataFrame(dft) Is tvec df['lemmatized_title'], New DataFrame(dft) Is tvec df['lemmatized_title']\n",
    "- I will be joining final_df while dropping columns with dft to create final_df_vector, joining final_df while dropping columns with dft to create final_df_vector\n"
   ]
  },
  {
   "cell_type": "code",
   "execution_count": 14,
   "id": "82593dfc-bb57-4601-b0bf-9ee2e116d2e8",
   "metadata": {},
   "outputs": [
    {
     "data": {
      "text/html": [
       "<div>\n",
       "<style scoped>\n",
       "    .dataframe tbody tr th:only-of-type {\n",
       "        vertical-align: middle;\n",
       "    }\n",
       "\n",
       "    .dataframe tbody tr th {\n",
       "        vertical-align: top;\n",
       "    }\n",
       "\n",
       "    .dataframe thead th {\n",
       "        text-align: right;\n",
       "    }\n",
       "</style>\n",
       "<table border=\"1\" class=\"dataframe\">\n",
       "  <thead>\n",
       "    <tr style=\"text-align: right;\">\n",
       "      <th></th>\n",
       "      <th>10</th>\n",
       "      <th>2022</th>\n",
       "      <th>art</th>\n",
       "      <th>ask</th>\n",
       "      <th>baby</th>\n",
       "      <th>bad</th>\n",
       "      <th>big</th>\n",
       "      <th>boy</th>\n",
       "      <th>buy</th>\n",
       "      <th>car</th>\n",
       "      <th>...</th>\n",
       "      <th>subreddit_AskReddit</th>\n",
       "      <th>subreddit_NoStupidQuestions</th>\n",
       "      <th>subreddit_OutOfTheLoop</th>\n",
       "      <th>subreddit_RoastMe</th>\n",
       "      <th>subreddit_clevercomebacks</th>\n",
       "      <th>subreddit_cscareerquestions</th>\n",
       "      <th>subreddit_dndnext</th>\n",
       "      <th>subreddit_tulsa</th>\n",
       "      <th>subreddit_unpopularopinion</th>\n",
       "      <th>subreddit_videos</th>\n",
       "    </tr>\n",
       "  </thead>\n",
       "  <tbody>\n",
       "    <tr>\n",
       "      <th>0</th>\n",
       "      <td>0.0</td>\n",
       "      <td>0.0</td>\n",
       "      <td>0.0</td>\n",
       "      <td>0.0</td>\n",
       "      <td>0.0</td>\n",
       "      <td>0.0</td>\n",
       "      <td>0.0</td>\n",
       "      <td>0.0</td>\n",
       "      <td>0.0</td>\n",
       "      <td>0.0</td>\n",
       "      <td>...</td>\n",
       "      <td>0</td>\n",
       "      <td>0</td>\n",
       "      <td>0</td>\n",
       "      <td>0</td>\n",
       "      <td>0</td>\n",
       "      <td>0</td>\n",
       "      <td>0</td>\n",
       "      <td>0</td>\n",
       "      <td>0</td>\n",
       "      <td>0</td>\n",
       "    </tr>\n",
       "    <tr>\n",
       "      <th>1</th>\n",
       "      <td>0.0</td>\n",
       "      <td>0.0</td>\n",
       "      <td>0.0</td>\n",
       "      <td>0.0</td>\n",
       "      <td>0.0</td>\n",
       "      <td>0.0</td>\n",
       "      <td>0.0</td>\n",
       "      <td>0.0</td>\n",
       "      <td>0.0</td>\n",
       "      <td>0.0</td>\n",
       "      <td>...</td>\n",
       "      <td>0</td>\n",
       "      <td>0</td>\n",
       "      <td>0</td>\n",
       "      <td>0</td>\n",
       "      <td>0</td>\n",
       "      <td>0</td>\n",
       "      <td>0</td>\n",
       "      <td>0</td>\n",
       "      <td>0</td>\n",
       "      <td>0</td>\n",
       "    </tr>\n",
       "    <tr>\n",
       "      <th>2</th>\n",
       "      <td>0.0</td>\n",
       "      <td>0.0</td>\n",
       "      <td>0.0</td>\n",
       "      <td>0.0</td>\n",
       "      <td>0.0</td>\n",
       "      <td>0.0</td>\n",
       "      <td>0.0</td>\n",
       "      <td>0.0</td>\n",
       "      <td>0.0</td>\n",
       "      <td>0.0</td>\n",
       "      <td>...</td>\n",
       "      <td>0</td>\n",
       "      <td>0</td>\n",
       "      <td>0</td>\n",
       "      <td>0</td>\n",
       "      <td>0</td>\n",
       "      <td>0</td>\n",
       "      <td>0</td>\n",
       "      <td>0</td>\n",
       "      <td>0</td>\n",
       "      <td>0</td>\n",
       "    </tr>\n",
       "    <tr>\n",
       "      <th>3</th>\n",
       "      <td>0.0</td>\n",
       "      <td>0.0</td>\n",
       "      <td>0.0</td>\n",
       "      <td>0.0</td>\n",
       "      <td>0.0</td>\n",
       "      <td>0.0</td>\n",
       "      <td>0.0</td>\n",
       "      <td>0.0</td>\n",
       "      <td>0.0</td>\n",
       "      <td>0.0</td>\n",
       "      <td>...</td>\n",
       "      <td>0</td>\n",
       "      <td>0</td>\n",
       "      <td>0</td>\n",
       "      <td>0</td>\n",
       "      <td>0</td>\n",
       "      <td>0</td>\n",
       "      <td>0</td>\n",
       "      <td>0</td>\n",
       "      <td>0</td>\n",
       "      <td>0</td>\n",
       "    </tr>\n",
       "  </tbody>\n",
       "</table>\n",
       "<p>4 rows × 112 columns</p>\n",
       "</div>"
      ],
      "text/plain": [
       "    10  2022  art  ask  baby  bad  big  boy  buy  car  ...  \\\n",
       "0  0.0   0.0  0.0  0.0   0.0  0.0  0.0  0.0  0.0  0.0  ...   \n",
       "1  0.0   0.0  0.0  0.0   0.0  0.0  0.0  0.0  0.0  0.0  ...   \n",
       "2  0.0   0.0  0.0  0.0   0.0  0.0  0.0  0.0  0.0  0.0  ...   \n",
       "3  0.0   0.0  0.0  0.0   0.0  0.0  0.0  0.0  0.0  0.0  ...   \n",
       "\n",
       "   subreddit_AskReddit  subreddit_NoStupidQuestions  subreddit_OutOfTheLoop  \\\n",
       "0                    0                            0                       0   \n",
       "1                    0                            0                       0   \n",
       "2                    0                            0                       0   \n",
       "3                    0                            0                       0   \n",
       "\n",
       "   subreddit_RoastMe  subreddit_clevercomebacks  subreddit_cscareerquestions  \\\n",
       "0                  0                          0                            0   \n",
       "1                  0                          0                            0   \n",
       "2                  0                          0                            0   \n",
       "3                  0                          0                            0   \n",
       "\n",
       "   subreddit_dndnext  subreddit_tulsa  subreddit_unpopularopinion  \\\n",
       "0                  0                0                           0   \n",
       "1                  0                0                           0   \n",
       "2                  0                0                           0   \n",
       "3                  0                0                           0   \n",
       "\n",
       "   subreddit_videos  \n",
       "0                 0  \n",
       "1                 0  \n",
       "2                 0  \n",
       "3                 0  \n",
       "\n",
       "[4 rows x 112 columns]"
      ]
     },
     "execution_count": 14,
     "metadata": {},
     "output_type": "execute_result"
    }
   ],
   "source": [
    "tvec = TfidfVectorizer(stop_words='english',\n",
    "                       strip_accents='ascii',\n",
    "                       max_features=100,\n",
    "                       # max_df = .80,\n",
    "                       norm='l2')\n",
    "tvec.fit(final_df['lemmatized_title'])\n",
    "final_df['title'].shape\n",
    "\n",
    "# New DataFrame(dft) Is tvec df['lemmatized_title']\n",
    "dft = pd.DataFrame(tvec.transform(final_df['lemmatized_title']).todense(),\n",
    "                  columns=tvec.get_feature_names())\n",
    "\n",
    "# joining final_df while dropping columns with dft to create final_df_vector\n",
    "final_df_vector = dft.join(final_df.drop(columns=['title', 'lemmatized_title']))\n",
    "final_df_vector.head(4)"
   ]
  },
  {
   "cell_type": "markdown",
   "id": "bbc49eb1-3e91-4e75-a25b-c077ec49d7aa",
   "metadata": {},
   "source": [
    " "
   ]
  },
  {
   "cell_type": "markdown",
   "id": "d0d6f714-0a4f-48c0-9f18-30987f345a04",
   "metadata": {},
   "source": [
    "**Scailing time_posted to time_posted_scale to be on sthe same scale as other features.**"
   ]
  },
  {
   "cell_type": "code",
   "execution_count": 15,
   "id": "2fb217d4-5a52-4e7e-8ce9-ea1d02413219",
   "metadata": {},
   "outputs": [],
   "source": [
    "Min_Max = MinMaxScaler()\n",
    "Min_Max.fit_transform(final_df_vector[['time_posted']])\n",
    "Scale_Time = Min_Max.fit_transform(final_df_vector[['time_posted']])\n",
    "final_df_vector['time_posted_scaled'] = Scale_Time "
   ]
  },
  {
   "cell_type": "code",
   "execution_count": 16,
   "id": "c42f670e-1551-49a3-a1eb-4216801724ac",
   "metadata": {},
   "outputs": [
    {
     "data": {
      "text/plain": [
       "0        1.654124e+09\n",
       "1        1.654127e+09\n",
       "2        1.654121e+09\n",
       "3        1.654120e+09\n",
       "4        1.654119e+09\n",
       "             ...     \n",
       "22737    1.654231e+09\n",
       "22738    1.654213e+09\n",
       "22739    1.654214e+09\n",
       "22740    1.654216e+09\n",
       "22741    1.654231e+09\n",
       "Name: time_posted, Length: 22742, dtype: float64"
      ]
     },
     "execution_count": 16,
     "metadata": {},
     "output_type": "execute_result"
    }
   ],
   "source": [
    "final_df_vector['time_posted']"
   ]
  },
  {
   "cell_type": "code",
   "execution_count": 17,
   "id": "e555eea9-ad79-4d6e-bce4-83183d7cd7c7",
   "metadata": {},
   "outputs": [
    {
     "data": {
      "text/plain": [
       "0        0.378659\n",
       "1        0.392317\n",
       "2        0.362139\n",
       "3        0.357540\n",
       "4        0.351344\n",
       "           ...   \n",
       "22737    0.972241\n",
       "22738    0.868255\n",
       "22739    0.874213\n",
       "22740    0.886650\n",
       "22741    0.970649\n",
       "Name: time_posted_scaled, Length: 22742, dtype: float64"
      ]
     },
     "execution_count": 17,
     "metadata": {},
     "output_type": "execute_result"
    }
   ],
   "source": [
    "final_df_vector['time_posted_scaled']"
   ]
  },
  {
   "cell_type": "code",
   "execution_count": 18,
   "id": "19d7d09e-0f71-4185-8493-8480612bbab7",
   "metadata": {},
   "outputs": [
    {
     "data": {
      "text/html": [
       "<div>\n",
       "<style scoped>\n",
       "    .dataframe tbody tr th:only-of-type {\n",
       "        vertical-align: middle;\n",
       "    }\n",
       "\n",
       "    .dataframe tbody tr th {\n",
       "        vertical-align: top;\n",
       "    }\n",
       "\n",
       "    .dataframe thead th {\n",
       "        text-align: right;\n",
       "    }\n",
       "</style>\n",
       "<table border=\"1\" class=\"dataframe\">\n",
       "  <thead>\n",
       "    <tr style=\"text-align: right;\">\n",
       "      <th></th>\n",
       "      <th>10</th>\n",
       "      <th>2022</th>\n",
       "      <th>art</th>\n",
       "      <th>ask</th>\n",
       "      <th>baby</th>\n",
       "      <th>bad</th>\n",
       "      <th>big</th>\n",
       "      <th>boy</th>\n",
       "      <th>buy</th>\n",
       "      <th>car</th>\n",
       "      <th>...</th>\n",
       "      <th>subreddit_NoStupidQuestions</th>\n",
       "      <th>subreddit_OutOfTheLoop</th>\n",
       "      <th>subreddit_RoastMe</th>\n",
       "      <th>subreddit_clevercomebacks</th>\n",
       "      <th>subreddit_cscareerquestions</th>\n",
       "      <th>subreddit_dndnext</th>\n",
       "      <th>subreddit_tulsa</th>\n",
       "      <th>subreddit_unpopularopinion</th>\n",
       "      <th>subreddit_videos</th>\n",
       "      <th>time_posted_scaled</th>\n",
       "    </tr>\n",
       "  </thead>\n",
       "  <tbody>\n",
       "    <tr>\n",
       "      <th>0</th>\n",
       "      <td>0.0</td>\n",
       "      <td>0.0</td>\n",
       "      <td>0.0</td>\n",
       "      <td>0.0</td>\n",
       "      <td>0.0</td>\n",
       "      <td>0.0</td>\n",
       "      <td>0.0</td>\n",
       "      <td>0.0</td>\n",
       "      <td>0.0</td>\n",
       "      <td>0.0</td>\n",
       "      <td>...</td>\n",
       "      <td>0</td>\n",
       "      <td>0</td>\n",
       "      <td>0</td>\n",
       "      <td>0</td>\n",
       "      <td>0</td>\n",
       "      <td>0</td>\n",
       "      <td>0</td>\n",
       "      <td>0</td>\n",
       "      <td>0</td>\n",
       "      <td>0.378659</td>\n",
       "    </tr>\n",
       "    <tr>\n",
       "      <th>1</th>\n",
       "      <td>0.0</td>\n",
       "      <td>0.0</td>\n",
       "      <td>0.0</td>\n",
       "      <td>0.0</td>\n",
       "      <td>0.0</td>\n",
       "      <td>0.0</td>\n",
       "      <td>0.0</td>\n",
       "      <td>0.0</td>\n",
       "      <td>0.0</td>\n",
       "      <td>0.0</td>\n",
       "      <td>...</td>\n",
       "      <td>0</td>\n",
       "      <td>0</td>\n",
       "      <td>0</td>\n",
       "      <td>0</td>\n",
       "      <td>0</td>\n",
       "      <td>0</td>\n",
       "      <td>0</td>\n",
       "      <td>0</td>\n",
       "      <td>0</td>\n",
       "      <td>0.392317</td>\n",
       "    </tr>\n",
       "    <tr>\n",
       "      <th>2</th>\n",
       "      <td>0.0</td>\n",
       "      <td>0.0</td>\n",
       "      <td>0.0</td>\n",
       "      <td>0.0</td>\n",
       "      <td>0.0</td>\n",
       "      <td>0.0</td>\n",
       "      <td>0.0</td>\n",
       "      <td>0.0</td>\n",
       "      <td>0.0</td>\n",
       "      <td>0.0</td>\n",
       "      <td>...</td>\n",
       "      <td>0</td>\n",
       "      <td>0</td>\n",
       "      <td>0</td>\n",
       "      <td>0</td>\n",
       "      <td>0</td>\n",
       "      <td>0</td>\n",
       "      <td>0</td>\n",
       "      <td>0</td>\n",
       "      <td>0</td>\n",
       "      <td>0.362139</td>\n",
       "    </tr>\n",
       "    <tr>\n",
       "      <th>3</th>\n",
       "      <td>0.0</td>\n",
       "      <td>0.0</td>\n",
       "      <td>0.0</td>\n",
       "      <td>0.0</td>\n",
       "      <td>0.0</td>\n",
       "      <td>0.0</td>\n",
       "      <td>0.0</td>\n",
       "      <td>0.0</td>\n",
       "      <td>0.0</td>\n",
       "      <td>0.0</td>\n",
       "      <td>...</td>\n",
       "      <td>0</td>\n",
       "      <td>0</td>\n",
       "      <td>0</td>\n",
       "      <td>0</td>\n",
       "      <td>0</td>\n",
       "      <td>0</td>\n",
       "      <td>0</td>\n",
       "      <td>0</td>\n",
       "      <td>0</td>\n",
       "      <td>0.357540</td>\n",
       "    </tr>\n",
       "    <tr>\n",
       "      <th>4</th>\n",
       "      <td>0.0</td>\n",
       "      <td>0.0</td>\n",
       "      <td>0.0</td>\n",
       "      <td>0.0</td>\n",
       "      <td>0.0</td>\n",
       "      <td>0.0</td>\n",
       "      <td>0.0</td>\n",
       "      <td>0.0</td>\n",
       "      <td>0.0</td>\n",
       "      <td>0.0</td>\n",
       "      <td>...</td>\n",
       "      <td>0</td>\n",
       "      <td>0</td>\n",
       "      <td>0</td>\n",
       "      <td>0</td>\n",
       "      <td>0</td>\n",
       "      <td>0</td>\n",
       "      <td>0</td>\n",
       "      <td>0</td>\n",
       "      <td>0</td>\n",
       "      <td>0.351344</td>\n",
       "    </tr>\n",
       "  </tbody>\n",
       "</table>\n",
       "<p>5 rows × 113 columns</p>\n",
       "</div>"
      ],
      "text/plain": [
       "    10  2022  art  ask  baby  bad  big  boy  buy  car  ...  \\\n",
       "0  0.0   0.0  0.0  0.0   0.0  0.0  0.0  0.0  0.0  0.0  ...   \n",
       "1  0.0   0.0  0.0  0.0   0.0  0.0  0.0  0.0  0.0  0.0  ...   \n",
       "2  0.0   0.0  0.0  0.0   0.0  0.0  0.0  0.0  0.0  0.0  ...   \n",
       "3  0.0   0.0  0.0  0.0   0.0  0.0  0.0  0.0  0.0  0.0  ...   \n",
       "4  0.0   0.0  0.0  0.0   0.0  0.0  0.0  0.0  0.0  0.0  ...   \n",
       "\n",
       "   subreddit_NoStupidQuestions  subreddit_OutOfTheLoop  subreddit_RoastMe  \\\n",
       "0                            0                       0                  0   \n",
       "1                            0                       0                  0   \n",
       "2                            0                       0                  0   \n",
       "3                            0                       0                  0   \n",
       "4                            0                       0                  0   \n",
       "\n",
       "   subreddit_clevercomebacks  subreddit_cscareerquestions  subreddit_dndnext  \\\n",
       "0                          0                            0                  0   \n",
       "1                          0                            0                  0   \n",
       "2                          0                            0                  0   \n",
       "3                          0                            0                  0   \n",
       "4                          0                            0                  0   \n",
       "\n",
       "   subreddit_tulsa  subreddit_unpopularopinion  subreddit_videos  \\\n",
       "0                0                           0                 0   \n",
       "1                0                           0                 0   \n",
       "2                0                           0                 0   \n",
       "3                0                           0                 0   \n",
       "4                0                           0                 0   \n",
       "\n",
       "   time_posted_scaled  \n",
       "0            0.378659  \n",
       "1            0.392317  \n",
       "2            0.362139  \n",
       "3            0.357540  \n",
       "4            0.351344  \n",
       "\n",
       "[5 rows x 113 columns]"
      ]
     },
     "execution_count": 18,
     "metadata": {},
     "output_type": "execute_result"
    }
   ],
   "source": [
    "final_df_vector.head()"
   ]
  },
  {
   "cell_type": "markdown",
   "id": "053d7a57-d06a-4f4b-b867-bbf458db0e9b",
   "metadata": {},
   "source": [
    " "
   ]
  },
  {
   "cell_type": "markdown",
   "id": "2602475f-3394-4244-9845-aa3e937e0f3a",
   "metadata": {},
   "source": [
    "---\n",
    "# Creating y"
   ]
  },
  {
   "cell_type": "code",
   "execution_count": 19,
   "id": "aa97b11d-a046-4b19-bdc1-651ec009a814",
   "metadata": {},
   "outputs": [
    {
     "data": {
      "text/plain": [
       "0    1\n",
       "1    1\n",
       "2    1\n",
       "3    1\n",
       "Name: target, dtype: int64"
      ]
     },
     "execution_count": 19,
     "metadata": {},
     "output_type": "execute_result"
    }
   ],
   "source": [
    "final_df_vector['target'] = [1 if value > final_df_vector['num_comments'].median() else 0 for value in final_df_vector['num_comments']]\n",
    "final_df_vector['target'].head(4)"
   ]
  },
  {
   "cell_type": "markdown",
   "id": "9ebe86ba-34fa-4891-a63f-379c1fbce6d7",
   "metadata": {},
   "source": [
    "- df['target'] is df['num_comments'] median which is the middle of the data of num_comments.\n",
    "- Anything above the median(50%) of num_comments will be considered hot posts.\n",
    "- Those less than the median will be not hot posts."
   ]
  },
  {
   "cell_type": "markdown",
   "id": "e0dab844-a544-4af0-aea3-89a2b7956ef9",
   "metadata": {},
   "source": [
    " "
   ]
  },
  {
   "cell_type": "markdown",
   "id": "3ae8cc64-c040-4a72-95e4-3b4d7fff9776",
   "metadata": {},
   "source": [
    " "
   ]
  },
  {
   "cell_type": "markdown",
   "id": "72337398-d420-4cda-b3b3-1aa2cd565db7",
   "metadata": {},
   "source": [
    "  "
   ]
  },
  {
   "cell_type": "markdown",
   "id": "89304c85-99dc-4d8f-8566-c22ab0201fe2",
   "metadata": {},
   "source": [
    "---\n",
    "# Visualization and eda"
   ]
  },
  {
   "cell_type": "markdown",
   "id": "abc56cfe-2a27-4c81-8fb6-bc1046e71906",
   "metadata": {},
   "source": [
    "- Distributions examined.\n",
    "- Now that is much better! all the outliers(5,000+) are gone from when we filtered them, now we have clean data."
   ]
  },
  {
   "cell_type": "code",
   "execution_count": 20,
   "id": "f0522a08-c551-447e-b88f-7d0833eca276",
   "metadata": {},
   "outputs": [
    {
     "data": {
      "image/png": "[encoded data removed]",
      "text/plain": [
       "<Figure size 432x288 with 1 Axes>"
      ]
     },
     "metadata": {
      "needs_background": "light"
     },
     "output_type": "display_data"
    }
   ],
   "source": [
    "df['num_comments'].plot(kind='box', title='number of comments boxplot')\n",
    "plt.savefig('num_coms_boxplot.png');"
   ]
  },
  {
   "cell_type": "code",
   "execution_count": 21,
   "id": "3c1e0fda-0de2-4f5e-aa8b-b506981757ec",
   "metadata": {},
   "outputs": [
    {
     "name": "stdout",
     "output_type": "stream",
     "text": [
      "count    22742.000000\n",
      "mean        56.045511\n",
      "std        172.955392\n",
      "min          0.000000\n",
      "25%          7.000000\n",
      "50%         18.000000\n",
      "75%         46.000000\n",
      "max       4764.000000\n",
      "Name: num_comments, dtype: float64\n"
     ]
    },
    {
     "data": {
      "image/png": "[encoded data removed]",
      "text/plain": [
       "<Figure size 432x288 with 1 Axes>"
      ]
     },
     "metadata": {
      "needs_background": "light"
     },
     "output_type": "display_data"
    }
   ],
   "source": [
    "print(df.num_comments.describe())\n",
    "sns.histplot(df.num_comments,log_scale=(False,True),bins=50).set(title='number of comments hisplot')\n",
    "plt.savefig('num_com_histplot.png');"
   ]
  },
  {
   "cell_type": "markdown",
   "id": "3fec826e-62ed-4034-b63e-81219d957066",
   "metadata": {},
   "source": [
    "### Interpretation:\n",
    "- Now you cant see those massive outliers and our dataframe(df) only contains posts with 5,000 comments max as the limit.\n",
    "- The count was originally 22758 we have dropped 16 outliers that were above the 5000 comment limit now we have  22742 index rows of num_comments\n",
    "- The most highest post with num_comments is from Max in .describe( ) which contains 4764 comments for one post.\n",
    "- In the histogram bar plot, we can see majority of comments(10^4 is 10,000. We have 17,000+) are less than a 1000, and the ones like the max(4764) appear insignificant among majority."
   ]
  },
  {
   "cell_type": "code",
   "execution_count": 22,
   "id": "6835cea7-4bee-4c86-8d3f-66b1dfaaad90",
   "metadata": {},
   "outputs": [
    {
     "data": {
      "image/png": "[encoded data removed]",
      "text/plain": [
       "<Figure size 540x252 with 1 Axes>"
      ]
     },
     "metadata": {
      "needs_background": "light"
     },
     "output_type": "display_data"
    }
   ],
   "source": [
    "# Set the figure size\n",
    "plt.rcParams[\"figure.figsize\"] = [7.50, 3.50]\n",
    "plt.rcParams[\"figure.autolayout\"] = True\n",
    "# Plot the dataframe\n",
    "ax = df[['time_posted']].plot(kind='box', title='time_posted boxplot')\n",
    "# Display the plot\n",
    "plt.savefig('time_posted_boxplot.png');"
   ]
  },
  {
   "cell_type": "code",
   "execution_count": 23,
   "id": "1c75072c-9dcc-4ec0-9d5a-f1b9c31067de",
   "metadata": {},
   "outputs": [
    {
     "name": "stdout",
     "output_type": "stream",
     "text": [
      "count    2.274200e+04\n",
      "mean     1.654157e+09\n",
      "std      4.141790e+04\n",
      "min      1.654056e+09\n",
      "25%      1.654122e+09\n",
      "50%      1.654163e+09\n",
      "75%      1.654188e+09\n",
      "max      1.654236e+09\n",
      "Name: time_posted, dtype: float64\n"
     ]
    },
    {
     "data": {
      "image/png": "[encoded data removed]",
      "text/plain": [
       "<Figure size 540x252 with 1 Axes>"
      ]
     },
     "metadata": {
      "needs_background": "light"
     },
     "output_type": "display_data"
    }
   ],
   "source": [
    "print(df['time_posted'].describe())\n",
    "sns.histplot(df['time_posted'],log_scale=(False,True),bins=50).set(title='time_posted in seconds histplot')\n",
    "plt.savefig('time_posted_seconds_histplot.png');"
   ]
  },
  {
   "cell_type": "markdown",
   "id": "803ab166-1588-46fa-9b26-acb737207f1c",
   "metadata": {},
   "source": [
    "**interpretation**\n",
    "- Distribution has definite changes with less occurrences. The shape of the distributions have changed as well while still keeping a near consistent shape pattern. There is a big spike around 175000 seconds which is around 48 hours after the post has been up they get more comments around the 2 day mark."
   ]
  },
  {
   "cell_type": "code",
   "execution_count": 24,
   "id": "29a01ccb-6335-48c5-911e-8cf39894404f",
   "metadata": {},
   "outputs": [
    {
     "data": {
      "image/png": "[encoded data removed]",
      "text/plain": [
       "<Figure size 1080x504 with 1 Axes>"
      ]
     },
     "metadata": {
      "needs_background": "light"
     },
     "output_type": "display_data"
    }
   ],
   "source": [
    "df.plot(x='num_comments', y='time_posted',\n",
    "              kind='scatter',\n",
    "              figsize=(15, 7),\n",
    "              s=250,\n",
    "              alpha=0.30,\n",
    "              color='navy')\n",
    "plt.title('number of comments with time_posted in seconds')\n",
    "plt.grid()\n",
    "plt.savefig('num_coms_time_posted.png');"
   ]
  },
  {
   "cell_type": "markdown",
   "id": "42c5db10-7b98-434a-b3c2-d77fe1035e0b",
   "metadata": {},
   "source": [
    "**interpretation**\n",
    "- The time_posted display number of seconds elapesed in unix epoch.\n",
    "- It appears that time_posted correlation with num_comments, yet it appears that the longer a post has been up does not affect the increase of num_comments after a certain amount of time elapsed(within 48hours)."
   ]
  },
  {
   "cell_type": "markdown",
   "id": "2306bc65-094b-4825-a080-f61715e923cb",
   "metadata": {
    "tags": []
   },
   "source": [
    "# Random Forests modeling "
   ]
  },
  {
   "cell_type": "markdown",
   "id": "359e823c-7791-42e2-91d8-06074bf66fc9",
   "metadata": {},
   "source": [
    "- X is the features([title, subreddit(top10), time_posted_scale]) excluding time_posted & num_comments(target).\n",
    "- y is the target(num_comments).\n",
    "- split train and test X and y."
   ]
  },
  {
   "cell_type": "code",
   "execution_count": 25,
   "id": "1e10b4eb-5ed7-4b90-9f0b-eae93efa7f6e",
   "metadata": {},
   "outputs": [],
   "source": [
    "X = final_df_vector.drop(columns=['target', 'num_comments', 'time_posted'])\n",
    "y = final_df_vector['target']\n",
    "\n",
    "# test train split\n",
    "X_train, X_test, y_train, y_test = train_test_split(X, y, test_size=.20)"
   ]
  },
  {
   "cell_type": "markdown",
   "id": "ef87197d-0a65-483a-b5ae-206ed1104921",
   "metadata": {},
   "source": [
    "## base line is 51.43%\n",
    "- y_test.mean() is majority class!\n",
    "- We do 1- as most of our post vectorised(1 or 0) are mojority in negatives, if we didnt minus 1 the baseline would be 49% instead."
   ]
  },
  {
   "cell_type": "code",
   "execution_count": 26,
   "id": "28515b22-5d62-4b5b-b10f-11db25590953",
   "metadata": {},
   "outputs": [
    {
     "data": {
      "text/plain": [
       "0.5187953396350846"
      ]
     },
     "execution_count": 26,
     "metadata": {},
     "output_type": "execute_result"
    }
   ],
   "source": [
    "1 - y_test.mean()"
   ]
  },
  {
   "cell_type": "markdown",
   "id": "78657a04-6eff-4a68-b798-7719108e6083",
   "metadata": {},
   "source": [
    "     "
   ]
  },
  {
   "cell_type": "markdown",
   "id": "56fc8c71-6d16-434b-ab44-7ce224fa62d6",
   "metadata": {
    "tags": []
   },
   "source": [
    " "
   ]
  },
  {
   "cell_type": "markdown",
   "id": "56894c75-a510-43c9-b775-9d7ba7e9ebc6",
   "metadata": {},
   "source": [
    " "
   ]
  },
  {
   "cell_type": "markdown",
   "id": "a30c34b9-b345-4c99-8df9-e68648079ef5",
   "metadata": {},
   "source": [
    " "
   ]
  },
  {
   "cell_type": "markdown",
   "id": "12a4ecb9-73be-4340-992b-a13aaaec6ccb",
   "metadata": {},
   "source": [
    "**My models**\n",
    "- **I have chosen these models and will find the best score among them.**\n",
    "- RandomForestClassifier\n",
    "- KNeighborsClassifier\n",
    "- LogisticRegression\n",
    "- GradientBoostingClassifier"
   ]
  },
  {
   "cell_type": "code",
   "execution_count": 27,
   "id": "8d8ceaa8-383f-40af-b0d4-0befd64cbd53",
   "metadata": {},
   "outputs": [
    {
     "name": "stdout",
     "output_type": "stream",
     "text": [
      "Simulating Random Forest\n",
      "Simulated Random Forest\n",
      "Simulating KNeighbors Classifier\n",
      "Simulated KNeighbors Classifie\n",
      "Simulating Logistic Regression\n",
      "Simulated Logistic Regression\n",
      "Simulatinb Gradient Boosting Classifier\n",
      "Simulated Gradient Boosting Classifier\n",
      "fitting the models and scores for X and y\n",
      "declaring model type\n",
      "Wall time: 9.38 s\n"
     ]
    }
   ],
   "source": [
    "%%time\n",
    "\n",
    "# models\n",
    "print('Simulating Random Forest')\n",
    "rf = RandomForestClassifier(class_weight='balanced',\n",
    "                            max_depth=30,\n",
    "                            n_estimators=300,\n",
    "                            n_jobs=-1)\n",
    "print('Simulated Random Forest')\n",
    "\n",
    "print('Simulating KNeighbors Classifier')\n",
    "knn = KNeighborsClassifier(n_jobs=-1)\n",
    "print('Simulated KNeighbors Classifie')\n",
    "\n",
    "print('Simulating Logistic Regression')\n",
    "logreg = LogisticRegressionCV(n_jobs=-1)\n",
    "print('Simulated Logistic Regression')\n",
    "\n",
    "print('Simulatinb Gradient Boosting Classifier')\n",
    "gb = GradientBoostingClassifier(learning_rate=0.1)\n",
    "print('Simulated Gradient Boosting Classifier')\n",
    "\n",
    "#-----------------------------------------------------#\n",
    "\n",
    "print('fitting the models and scores for X and y')\n",
    "rf.fit(X_train, y_train)\n",
    "rf.score(X_test, y_test)\n",
    "\n",
    "knn.fit(X_train, y_train)\n",
    "knn.score(X_test, y_test)\n",
    "\n",
    "logreg.fit(X_train, y_train)\n",
    "logreg.score(X_test, y_test)\n",
    "\n",
    "gb.fit(X_train, y_train)\n",
    "gb.score(X_test, y_test) \n",
    "\n",
    "#-----------------------------------------------------#\n",
    "\n",
    "# function declaring model type and name for printing scores\n",
    "print('declaring model type')\n",
    "def score(model, name, X, y):\n",
    "    cv = StratifiedKFold(n_splits=3,\n",
    "                        random_state=40,\n",
    "                        shuffle=True)\n",
    "    s = cross_val_score(model, X, y, cv=cv,n_jobs=-1)\n",
    "    print(\"{} Score:\\t{:0.2} ± {:0.2}\".format(name, s.mean(), 2 * s.std()))"
   ]
  },
  {
   "cell_type": "markdown",
   "id": "3466580a-0e56-400a-ad51-22a84118cd5d",
   "metadata": {},
   "source": [
    "**baseline = 51.43% y median of num_comments is above 51.43% is hot and below is not hot**"
   ]
  },
  {
   "cell_type": "markdown",
   "id": "1e70a865-0cc3-49cb-aa2c-34a26a5cbf05",
   "metadata": {},
   "source": [
    "- Scores of each model\n",
    "- score is: NUMBER ± (Higher the number the more accurate the score is)\n",
    "- and confidence intaval is: ± NUMBER(lower the percentage the more confident the model is the accuracy of the score)"
   ]
  },
  {
   "cell_type": "code",
   "execution_count": 28,
   "id": "9b416509-1da6-462b-accb-e2657dcf1337",
   "metadata": {},
   "outputs": [
    {
     "name": "stdout",
     "output_type": "stream",
     "text": [
      "score for Random Forest\n",
      "Random Forest Score:\t0.65 ± 0.0077\n",
      " \n",
      "score for Gradient Boosting Classifier\n",
      "Gradient Boosting Classifier Score:\t0.66 ± 0.011\n",
      " \n",
      "score for KNeighbors Classifier\n",
      "KNeighbors Classifier Score:\t0.6 ± 0.0085\n",
      " \n",
      "score for Logistic Regression\n",
      "Logistic Regression Score:\t0.6 ± 0.0033\n",
      "Logistic Regression intercept: [0.08082249]\n",
      "Logistic Regression coef(s): [[ 0.00316664  0.01249189 -0.01439719  0.00707708 -0.00802582  0.00612182\n",
      "   0.0056416   0.00129767  0.00282644  0.00638785 -0.00943549  0.00910542\n",
      "   0.00354158 -0.00576038 -0.00684192  0.01073382  0.00437638  0.00445814\n",
      "   0.01269752  0.00468651 -0.00287311  0.02614026  0.00387931  0.00490519\n",
      "   0.00161576  0.01505887  0.01325696 -0.00056706 -0.00576305  0.00393644\n",
      "   0.00491503  0.0094228   0.00379176 -0.00145354  0.00071899  0.00581343\n",
      "   0.01175594  0.01134574  0.00108747  0.01746697  0.01002389  0.00344291\n",
      "   0.00423223  0.00244175 -0.01112534  0.00087445  0.00492506  0.00843594\n",
      "  -0.00388146  0.00452343  0.021135    0.00200198 -0.01250954  0.00788753\n",
      "   0.0085761   0.02624091 -0.00045425 -0.01261603 -0.00255008  0.02499483\n",
      "   0.00874803  0.00176243  0.00591064  0.0014538   0.00308422  0.0103764\n",
      "   0.00305139  0.0068724   0.02271489  0.00058754 -0.00649788  0.00389606\n",
      "   0.00262753  0.00796378  0.00732778 -0.00374617  0.00568174  0.00224584\n",
      "   0.0052192   0.01023319 -0.00342307  0.00726671 -0.00158937  0.00810939\n",
      "   0.00320082  0.0052605   0.01020883  0.00519541  0.00335167  0.00938131\n",
      "  -0.00546152  0.00533361 -0.00237944  0.00783733  0.00630639  0.01150933\n",
      "   0.0102585   0.01135037  0.00054375  0.02682395  0.00439576  0.00154648\n",
      "   0.00078     0.00077972  0.00079105  0.0011756   0.00117904  0.00038842\n",
      "   0.00237799  0.00281037 -0.24019958]]\n",
      " \n",
      "Wall time: 19.2 s\n"
     ]
    }
   ],
   "source": [
    "%%time\n",
    "print('score for Random Forest')\n",
    "score(rf, 'Random Forest', X, y)\n",
    "print(' ')\n",
    "\n",
    "print('score for Gradient Boosting Classifier')\n",
    "score(gb, 'Gradient Boosting Classifier', X, y)\n",
    "print(' ')\n",
    "\n",
    "print('score for KNeighbors Classifier')\n",
    "score(knn, 'KNeighbors Classifier', X , y)\n",
    "print(' ')\n",
    "\n",
    "print('score for Logistic Regression')\n",
    "score(logreg, 'Logistic Regression', X , y)\n",
    "print('Logistic Regression intercept:', logreg.intercept_)\n",
    "print('Logistic Regression coef(s):', logreg.coef_)\n",
    "print(' ')"
   ]
  },
  {
   "cell_type": "markdown",
   "id": "53344ee8-41e6-4cdf-88a0-e74f187af8cd",
   "metadata": {
    "tags": []
   },
   "source": [
    " "
   ]
  },
  {
   "cell_type": "markdown",
   "id": "56c9c95c-c0b5-43f2-919e-5bf551bd8f94",
   "metadata": {
    "tags": []
   },
   "source": [
    "**Interpretations of models**\n",
    "- The higher the time_posted is the less likely the positive class."
   ]
  },
  {
   "cell_type": "markdown",
   "id": "52c0e44f-634d-4033-b870-70478a89726a",
   "metadata": {},
   "source": [
    "- Gradient Boosting Classifier has the best overall score with confidence interval for the data scraped at hand."
   ]
  },
  {
   "cell_type": "markdown",
   "id": "c0864f9f-dfef-442f-b80d-a28e3ee0184c",
   "metadata": {},
   "source": [
    "- Logistic Regression has the worse score yet the best confidence interval."
   ]
  },
  {
   "cell_type": "markdown",
   "id": "48012d31-59c1-42eb-ad71-8979df25e391",
   "metadata": {
    "tags": []
   },
   "source": [
    "Does the student explain how the model works and evaluate its performance successes/downfalls?\n",
    "\n",
    "### Random Forest\n",
    "- Random Forest is the 2nd best model score with the worse confidence interval.\n",
    "**Advantages**\n",
    "- Be used to solve both classification as well as regression problems.\n",
    "- Works well with both categorical and continuous variables.\n",
    "- Can automatically handle missing values.\n",
    "- Less impacted by noise.\n",
    "- Robust to outliers.\n",
    "\n",
    "**Disadvantages**\n",
    "- Complexity\n",
    "- Longer Training Period\n",
    "\n",
    "### KNeighbors Classifier\n",
    "- KNeighbors Classifier is the 3rd best score with the second best confidence interval.\n",
    "**Advantages**\n",
    "- No Training Period\n",
    "- Easy ImplementationEasy Implementation\n",
    "**Disadvantages**\n",
    "- Does not work well with large datasetDoes not work well with large dataset\n",
    "- Does not work well with high dimensionalityDoes not work well with high dimensionality\n",
    "- Sensitive to noisy and missing dataSensitive to noisy and missing data\n",
    "\n",
    "### Logistic RegressionLogistic Regression\n",
    "- Logistic Regression has the worse score yet has the best confidence interval with extreme accuracy with marginal error of 0.00012, \n",
    "**Advantages**\n",
    "- It is very fast at classifying unknown records. \n",
    "**Disadvantages**\n",
    "- Non-linear problems can't be solved with logistic regression because it has a linear decision surface.\n",
    "\n",
    "### Gradient Boosting Classifier\n",
    "- Gradient Boosting ClassifierGradient Boosting Classifier improved the score by 1% making it the best score with the 3rd best confidence interval. \n",
    "**Advantages**\n",
    "- Boosting is a resilient method that curbs over-fitting easily.\n",
    "- Train faster especially on larger datasets.\n",
    "- Most of them provide support handling categorical features.\n",
    "- Some of them handle missing values natively.\n",
    "\n",
    "**Disadvantages**\n",
    "- Models can be computationally expensive and take a long time to train, especially on CPUs.\n",
    "- Prone to overfitting: this can be solved by applying L1 and L2 regularization penalties. You can try a low learning rate as well.\n",
    "- One disadvantage of boosting is that it is sensitive to outliers.\n",
    "- Method is almost impossible to scale up. This is because every estimator bases its correctness on the previous predictors."
   ]
  },
  {
   "cell_type": "markdown",
   "id": "2c9ee8ca-30d8-4657-9976-5039d794b283",
   "metadata": {},
   "source": [
    "   "
   ]
  },
  {
   "cell_type": "markdown",
   "id": "57b4f12e-4442-4e74-b99e-e1471dcd8c89",
   "metadata": {},
   "source": [
    "     "
   ]
  },
  {
   "cell_type": "markdown",
   "id": "0fcfb8c5-623b-4cf9-b695-521117c9b25f",
   "metadata": {},
   "source": [
    "    "
   ]
  },
  {
   "cell_type": "markdown",
   "id": "7c3cb853-f5cf-44b7-a02a-8ac61a292690",
   "metadata": {},
   "source": [
    "      "
   ]
  },
  {
   "cell_type": "markdown",
   "id": "6ed8bc9b-ce2e-4563-897e-46ff48d53a9f",
   "metadata": {
    "tags": []
   },
   "source": [
    "**Confusion matrix display for models/Interpretations**"
   ]
  },
  {
   "cell_type": "markdown",
   "id": "7e18cf2e-7790-4040-a7c4-c5d247ccac94",
   "metadata": {
    "tags": []
   },
   "source": [
    "**Random Forest model**"
   ]
  },
  {
   "cell_type": "code",
   "execution_count": 29,
   "id": "642dbc66-99f0-40b1-9a31-e923c820548d",
   "metadata": {},
   "outputs": [
    {
     "data": {
      "image/png": "[encoded data removed]",
      "text/plain": [
       "<Figure size 1080x720 with 2 Axes>"
      ]
     },
     "metadata": {
      "needs_background": "light"
     },
     "output_type": "display_data"
    }
   ],
   "source": [
    "predicted_rf = rf.predict(X)\n",
    "\n",
    "tp = np.sum((y == 1) & (predicted_rf == 1))\n",
    "fp = np.sum((y == 0) & (predicted_rf == 1))\n",
    "tn = np.sum((y == 0) & (predicted_rf == 0))\n",
    "fn = np.sum((y == 1) & (predicted_rf == 0))\n",
    "\n",
    "# print(confusion_matrix(y, predicted_rf))\n",
    "cmrf = confusion_matrix( y, rf.predict(X))\n",
    "# ConfusionMatrixDisplay(cmrf).plot()\n",
    "group_names = ['True Neg','False Pos','False Neg','True Pos']\n",
    "\n",
    "group_counts = [\"{0:0.0f}\".format(value) for value in\n",
    "                cmrf.flatten()]\n",
    "\n",
    "group_percentages = [\"{0:.2%}\".format(value) for value in\n",
    "                     cmrf.flatten()/np.sum(cmrf)]\n",
    "\n",
    "labels = [f\"{v1}\\n{v2}\\n{v3}\" for v1, v2, v3 in\n",
    "          zip(group_names,group_counts,group_percentages)]\n",
    "\n",
    "labels = np.asarray(labels).reshape(2,2)\n",
    "\n",
    "fig, ax = plt.subplots(figsize = (15,10))\n",
    "\n",
    "ax = sns.heatmap(cmrf, annot=labels, fmt='', cmap='Blues', annot_kws={\"size\":20})\n",
    "\n",
    "ax.set_title('Random Forest Model\\n\\n', fontsize=30, pad=15);\n",
    "ax.set_xlabel('\\nPredicted Values', fontsize=25)\n",
    "ax.set_ylabel('Actual Values', fontsize=25);\n",
    "## Ticket labels - List must be in alphabetical order\n",
    "ax.xaxis.set_ticklabels(['False','True'])\n",
    "ax.yaxis.set_ticklabels(['False','True'])\n",
    "## Display the visualization of the Confusion Matrix.\n",
    "plt.show()"
   ]
  },
  {
   "cell_type": "code",
   "execution_count": 30,
   "id": "2b740082-a207-4fc0-b2f9-54654bd9a7e5",
   "metadata": {},
   "outputs": [
    {
     "name": "stdout",
     "output_type": "stream",
     "text": [
      "Our RandomForest model correctly predicted 0.85% of the not-hot posts.\n",
      "Our RandomForest model correctly predicted 0.62% of the actual accuracy of hot posts.\n",
      "Our RandomForest model correctly predicted 0.74% overall score of posts.\n"
     ]
    }
   ],
   "source": [
    "# specificity: True Negative Rate\n",
    "specificity = tn / (tn + fp)\n",
    "\n",
    "# sensitivity aka recall: True Positive Rate\n",
    "recall = recall_score(y, predicted_rf)\n",
    "\n",
    "# total correct classifications\n",
    "correct_classifications = tp + tn\n",
    "# all classifications\n",
    "all_classifications = tp + fp + tn + fn\n",
    "\n",
    "# specificity\n",
    "print(f'Our RandomForest model correctly predicted {specificity:.2f}% of the not-hot posts.')\n",
    "# sensitivity\n",
    "print(f'Our RandomForest model correctly predicted {recall:.2f}% of the actual accuracy of hot posts.')\n",
    "# accuracy\n",
    "print(f'Our RandomForest model correctly predicted {correct_classifications / all_classifications:.2f}% overall score of posts.')"
   ]
  },
  {
   "cell_type": "markdown",
   "id": "549fc6df-ee34-4b29-8645-f00747063ada",
   "metadata": {},
   "source": [
    " "
   ]
  },
  {
   "cell_type": "markdown",
   "id": "dbab3348-8327-4f48-bafb-5cb38d57bcb6",
   "metadata": {},
   "source": [
    " "
   ]
  },
  {
   "cell_type": "markdown",
   "id": "5a9570e6-bfec-401f-80f8-d32acf6847fb",
   "metadata": {},
   "source": [
    "**Gradient Boosting Classifier model**"
   ]
  },
  {
   "cell_type": "code",
   "execution_count": 31,
   "id": "53ca5862-e0e3-4285-bddd-4cc303bb260c",
   "metadata": {},
   "outputs": [
    {
     "data": {
      "image/png": "[encoded data removed]",
      "text/plain": [
       "<Figure size 1080x720 with 2 Axes>"
      ]
     },
     "metadata": {
      "needs_background": "light"
     },
     "output_type": "display_data"
    }
   ],
   "source": [
    "predicted_gb = gb.predict(X)\n",
    "\n",
    "tp = np.sum((y == 1) & (predicted_gb == 1))\n",
    "fp = np.sum((y == 0) & (predicted_gb == 1))\n",
    "tn = np.sum((y == 0) & (predicted_gb == 0))\n",
    "fn = np.sum((y == 1) & (predicted_gb == 0))\n",
    "\n",
    "# print(confusion_matrix(y, predicted_gb))\n",
    "cmgb = confusion_matrix( y, gb.predict(X))\n",
    "# ConfusionMatrixDisplay(cmgb).plot()\n",
    "\n",
    "group_names = ['True Neg','False Pos','False Neg','True Pos']\n",
    "\n",
    "group_counts = [\"{0:0.0f}\".format(value) for value in\n",
    "                cmgb.flatten()]\n",
    "\n",
    "group_percentages = [\"{0:.2%}\".format(value) for value in\n",
    "                     cmgb.flatten()/np.sum(cmgb)]\n",
    "\n",
    "labels = [f\"{v1}\\n{v2}\\n{v3}\" for v1, v2, v3 in\n",
    "          zip(group_names,group_counts,group_percentages)]\n",
    "\n",
    "labels = np.asarray(labels).reshape(2,2)\n",
    "\n",
    "fig, ax = plt.subplots(figsize = (15,10))\n",
    "\n",
    "ax = sns.heatmap(cmgb, annot=labels, fmt='', cmap='Blues', annot_kws={\"size\":20})\n",
    "\n",
    "ax.set_title('Gradient Boosting Classifier Model\\n\\n', fontsize=30, pad=15);\n",
    "ax.set_xlabel('\\nPredicted Values', fontsize=25)\n",
    "ax.set_ylabel('Actual Values', fontsize=25);\n",
    "## Ticket labels - List must be in alphabetical order\n",
    "ax.xaxis.set_ticklabels(['False','True'])\n",
    "ax.yaxis.set_ticklabels(['False','True'])\n",
    "## Display the visualization of the Confusion Matrix.\n",
    "plt.show()"
   ]
  },
  {
   "cell_type": "code",
   "execution_count": 32,
   "id": "cb343e02-269f-46b4-bbb9-1a0cf6630693",
   "metadata": {},
   "outputs": [
    {
     "name": "stdout",
     "output_type": "stream",
     "text": [
      "Our GradientBoostingClassifier model correctly predicted 0.78% of the not-hot posts.\n",
      "Our GradientBoostingClassifier model correctly predicted 0.56% of the actual accuracy of hot posts.\n",
      "Our GradientBoostingClassifier model correctly predicted 0.67% overall score of posts.\n"
     ]
    }
   ],
   "source": [
    "# specificity: True Negative Rate\n",
    "specificity = tn / (tn + fp)\n",
    "\n",
    "# sensitivity aka recall: True Positive Rate\n",
    "recall = recall_score(y, predicted_gb)\n",
    "\n",
    "# total correct classifications\n",
    "correct_classifications = tp + tn\n",
    "# all classifications\n",
    "all_classifications = tp + fp + tn + fn\n",
    "\n",
    "# specificity\n",
    "print(f'Our GradientBoostingClassifier model correctly predicted {specificity:.2f}% of the not-hot posts.')\n",
    "# sensitivity\n",
    "print(f'Our GradientBoostingClassifier model correctly predicted {recall:.2f}% of the actual accuracy of hot posts.')\n",
    "# accuracy\n",
    "print(f'Our GradientBoostingClassifier model correctly predicted {correct_classifications / all_classifications:.2f}% overall score of posts.')"
   ]
  },
  {
   "cell_type": "markdown",
   "id": "b19b5f06-45d5-4a93-96b3-d59036bf72eb",
   "metadata": {},
   "source": [
    " "
   ]
  },
  {
   "cell_type": "markdown",
   "id": "82bb0f9e-800d-47d9-9ccc-f0aa9d31ecb7",
   "metadata": {},
   "source": [
    " "
   ]
  },
  {
   "cell_type": "markdown",
   "id": "a9f9b1f1-6f38-480e-ae91-6c555ff7ac2e",
   "metadata": {},
   "source": [
    "**KNeighbors Classifier model**"
   ]
  },
  {
   "cell_type": "code",
   "execution_count": 33,
   "id": "7a7b85ce-5be4-4a96-9558-8b84da7a2c66",
   "metadata": {},
   "outputs": [
    {
     "data": {
      "image/png": "[encoded data removed]",
      "text/plain": [
       "<Figure size 1080x720 with 2 Axes>"
      ]
     },
     "metadata": {
      "needs_background": "light"
     },
     "output_type": "display_data"
    }
   ],
   "source": [
    "predicted_knn = knn.predict(X)\n",
    "\n",
    "tp = np.sum((y == 1) & (predicted_knn == 1))\n",
    "fp = np.sum((y == 0) & (predicted_knn == 1))\n",
    "tn = np.sum((y == 0) & (predicted_knn == 0))\n",
    "fn = np.sum((y == 1) & (predicted_knn == 0))\n",
    "# print(confusion_matrix(y, predicted_knn))\n",
    "cmknn = confusion_matrix(y , knn.predict(X))\n",
    "# ConfusionMatrixDisplay(cmknn).plot()\n",
    "\n",
    "\n",
    "group_names = ['True Neg','False Pos','False Neg','True Pos']\n",
    "\n",
    "group_counts = [\"{0:0.0f}\".format(value) for value in\n",
    "                cmknn.flatten()]\n",
    "\n",
    "group_percentages = [\"{0:.2%}\".format(value) for value in\n",
    "                     cmknn.flatten()/np.sum(cmknn)]\n",
    "\n",
    "labels = [f\"{v1}\\n{v2}\\n{v3}\" for v1, v2, v3 in\n",
    "          zip(group_names,group_counts,group_percentages)]\n",
    "\n",
    "labels = np.asarray(labels).reshape(2,2)\n",
    "\n",
    "fig, ax = plt.subplots(figsize = (15,10))\n",
    "\n",
    "ax = sns.heatmap(cmknn, annot=labels, fmt='', cmap='Blues', annot_kws={\"size\":20})\n",
    "\n",
    "ax.set_title('KNeighbors Classifier Model\\n\\n', fontsize=30, pad=15);\n",
    "ax.set_xlabel('\\nPredicted Values', fontsize=25)\n",
    "ax.set_ylabel('Actual Values', fontsize=25);\n",
    "## Ticket labels - List must be in alphabetical order\n",
    "ax.xaxis.set_ticklabels(['False','True'])\n",
    "ax.yaxis.set_ticklabels(['False','True'])\n",
    "## Display the visualization of the Confusion Matrix.\n",
    "plt.show()"
   ]
  },
  {
   "cell_type": "code",
   "execution_count": 34,
   "id": "2b5cc58f-8ed2-4316-97f9-7954dd56cb00",
   "metadata": {},
   "outputs": [
    {
     "name": "stdout",
     "output_type": "stream",
     "text": [
      "Our KNeighborsClassifier model correctly predicted 0.75% of the not-hot posts.\n",
      "Our KNeighborsClassifier model correctly predicted 0.67% of the actual accuracy of hot posts.\n",
      "Our KNeighborsClassifier model correctly predicted 0.71% overall score of posts.\n"
     ]
    }
   ],
   "source": [
    "# specificity: True Negative Rate\n",
    "specificity = tn / (tn + fp)\n",
    "\n",
    "# sensitivity aka recall: True Positive Rate\n",
    "recall = recall_score(y, predicted_knn)\n",
    "\n",
    "# total correct classifications\n",
    "correct_classifications = tp + tn\n",
    "# all classifications\n",
    "all_classifications = tp + fp + tn + fn\n",
    "\n",
    "# specificity\n",
    "print(f'Our KNeighborsClassifier model correctly predicted {specificity:.2f}% of the not-hot posts.')\n",
    "# sensitivity\n",
    "print(f'Our KNeighborsClassifier model correctly predicted {recall:.2f}% of the actual accuracy of hot posts.')\n",
    "# accuracy\n",
    "print(f'Our KNeighborsClassifier model correctly predicted {correct_classifications / all_classifications:.2f}% overall score of posts.')"
   ]
  },
  {
   "cell_type": "markdown",
   "id": "27135b5d-419c-4f62-847d-649707425042",
   "metadata": {},
   "source": [
    " "
   ]
  },
  {
   "cell_type": "markdown",
   "id": "45cb6231-fa59-4f58-9a6c-bf712ad89cf0",
   "metadata": {},
   "source": [
    " "
   ]
  },
  {
   "cell_type": "markdown",
   "id": "4230aac4-db89-405d-922c-c89b6942a5fd",
   "metadata": {},
   "source": [
    "**Logistic Regression model**"
   ]
  },
  {
   "cell_type": "code",
   "execution_count": 35,
   "id": "ca8ac1eb-d989-4244-86db-e2bfe55324a1",
   "metadata": {},
   "outputs": [
    {
     "data": {
      "image/png": "[encoded data removed]",
      "text/plain": [
       "<Figure size 1080x720 with 2 Axes>"
      ]
     },
     "metadata": {
      "needs_background": "light"
     },
     "output_type": "display_data"
    }
   ],
   "source": [
    "predicted_logreg = logreg.predict(X)\n",
    "\n",
    "tp = np.sum((y == 1) & (predicted_logreg == 1))\n",
    "fp = np.sum((y == 0) & (predicted_logreg == 1))\n",
    "tn = np.sum((y == 0) & (predicted_logreg == 0))\n",
    "fn = np.sum((y == 1) & (predicted_logreg == 0))\n",
    "# print(confusion_matrix(y, predicted_logreg))\n",
    "\n",
    "\n",
    "cmlogreg = confusion_matrix(y , logreg.predict(X))\n",
    "# ConfusionMatrixDisplay(cmknn).plot()\n",
    "\n",
    "group_names = ['True Neg','False Pos','False Neg','True Pos']\n",
    "\n",
    "group_counts = [\"{0:0.0f}\".format(value) for value in\n",
    "                cmlogreg.flatten()]\n",
    "\n",
    "group_percentages = [\"{0:.2%}\".format(value) for value in\n",
    "                     cmlogreg.flatten()/np.sum(cmlogreg)]\n",
    "\n",
    "labels = [f\"{v1}\\n{v2}\\n{v3}\" for v1, v2, v3 in\n",
    "          zip(group_names,group_counts,group_percentages)]\n",
    "\n",
    "labels = np.asarray(labels).reshape(2,2)\n",
    "\n",
    "fig, ax = plt.subplots(figsize = (15,10))\n",
    "\n",
    "ax = sns.heatmap(cmlogreg, annot=labels, fmt='', cmap='Blues', annot_kws={\"size\":20})\n",
    "\n",
    "ax.set_title('Logistic Regression Model\\n\\n', fontsize=30, pad=15);\n",
    "ax.set_xlabel('\\nPredicted Values', fontsize=25)\n",
    "ax.set_ylabel('Actual Values', fontsize=25);\n",
    "## Ticket labels - List must be in alphabetical order\n",
    "ax.xaxis.set_ticklabels(['False','True'])\n",
    "ax.yaxis.set_ticklabels(['False','True'])\n",
    "## Display the visualization of the Confusion Matrix.\n",
    "plt.show()"
   ]
  },
  {
   "cell_type": "code",
   "execution_count": 36,
   "id": "41d3d2ae-f650-4332-89ac-bf4f1d5c97b2",
   "metadata": {},
   "outputs": [
    {
     "name": "stdout",
     "output_type": "stream",
     "text": [
      "Our LogisticRegression model correctly predicted 0.88% of the not-hot posts.\n",
      "Our LogisticRegression model correctly predicted 0.36% of the actual accuracy of hot posts.\n",
      "Our LogisticRegression model correctly predicted 0.63% overall score of posts.\n"
     ]
    }
   ],
   "source": [
    "# specificity: True Negative Rate\n",
    "specificity = tn / (tn + fp)\n",
    "\n",
    "# sensitivity aka recall: True Positive Rate\n",
    "recall = recall_score(y, predicted_logreg)\n",
    "\n",
    "# total correct classifications\n",
    "correct_classifications = tp + tn\n",
    "# all classifications\n",
    "all_classifications = tp + fp + tn + fn\n",
    "\n",
    "# specificity\n",
    "print(f'Our LogisticRegression model correctly predicted {specificity:.2f}% of the not-hot posts.')\n",
    "# sensitivity\n",
    "print(f'Our LogisticRegression model correctly predicted {recall:.2f}% of the actual accuracy of hot posts.')\n",
    "# accuracy\n",
    "print(f'Our LogisticRegression model correctly predicted {correct_classifications / all_classifications:.2f}% overall score of posts.')"
   ]
  },
  {
   "cell_type": "markdown",
   "id": "6d6f7a3f-6d2a-4d46-b164-092d21742b14",
   "metadata": {},
   "source": [
    "    "
   ]
  },
  {
   "cell_type": "markdown",
   "id": "35fc016f-8fe0-40ba-95fd-a0d2347e2db4",
   "metadata": {},
   "source": [
    "   "
   ]
  },
  {
   "cell_type": "markdown",
   "id": "d4164037-0169-4cfa-904d-da731927d3fa",
   "metadata": {
    "tags": []
   },
   "source": [
    "## The best among all 4 models is... GradientBoosting Model! It has predicted the most accurate score.\n",
    "### LogisticRegressionCV seem to have over fit & GradientBoosting curbs overfitting & trains faster.\n",
    "- Our GradientBoostingClassifier model correctly predicted 0.76% of the not-hot posts.\n",
    "- Our GradientBoostingClassifier model correctly predicted 0.58% of the actual accuracy of hot posts.\n",
    "- Our GradientBoostingClassifier model correctly predicted 0.67% overall score of posts.Our GradientBoostingClassifier model correctly predicted 0.76% of the not-hot posts."
   ]
  },
  {
   "cell_type": "markdown",
   "id": "c86048c8-06c1-4234-91fa-6627c18f3e0e",
   "metadata": {},
   "source": [
    "   "
   ]
  },
  {
   "cell_type": "markdown",
   "id": "29d7e1c7-80c6-465f-ab5c-7ba02281b3ac",
   "metadata": {},
   "source": [
    "   "
   ]
  },
  {
   "cell_type": "markdown",
   "id": "4d5b4d49-b152-4a4f-bb1a-6cd87a855e7f",
   "metadata": {},
   "source": [
    "**improtant features in models Interpretations**"
   ]
  },
  {
   "cell_type": "markdown",
   "id": "4f05b60c-dc53-4553-a987-cf9ef2a5603d",
   "metadata": {},
   "source": [
    "- time_posted_scaled seems to be the most important feature, \n",
    "- Certain words are more important than subreddit tags vise versa."
   ]
  },
  {
   "cell_type": "markdown",
   "id": "0d7dbfee-9a4b-4820-b3b1-30b350429c6a",
   "metadata": {},
   "source": [
    "**Importance variables in Logistic RegressionCV**"
   ]
  },
  {
   "cell_type": "code",
   "execution_count": 37,
   "id": "bf91482e-2047-4990-9e44-89395b31c575",
   "metadata": {},
   "outputs": [
    {
     "data": {
      "text/html": [
       "<div>\n",
       "<style scoped>\n",
       "    .dataframe tbody tr th:only-of-type {\n",
       "        vertical-align: middle;\n",
       "    }\n",
       "\n",
       "    .dataframe tbody tr th {\n",
       "        vertical-align: top;\n",
       "    }\n",
       "\n",
       "    .dataframe thead th {\n",
       "        text-align: right;\n",
       "    }\n",
       "</style>\n",
       "<table border=\"1\" class=\"dataframe\">\n",
       "  <thead>\n",
       "    <tr style=\"text-align: right;\">\n",
       "      <th></th>\n",
       "      <th>Variable</th>\n",
       "      <th>Coefficients</th>\n",
       "    </tr>\n",
       "  </thead>\n",
       "  <tbody>\n",
       "    <tr>\n",
       "      <th>99</th>\n",
       "      <td>year</td>\n",
       "      <td>0.027187</td>\n",
       "    </tr>\n",
       "    <tr>\n",
       "      <th>55</th>\n",
       "      <td>new</td>\n",
       "      <td>0.026588</td>\n",
       "    </tr>\n",
       "    <tr>\n",
       "      <th>21</th>\n",
       "      <td>game</td>\n",
       "      <td>0.026485</td>\n",
       "    </tr>\n",
       "    <tr>\n",
       "      <th>59</th>\n",
       "      <td>people</td>\n",
       "      <td>0.025310</td>\n",
       "    </tr>\n",
       "    <tr>\n",
       "      <th>68</th>\n",
       "      <td>say</td>\n",
       "      <td>0.022975</td>\n",
       "    </tr>\n",
       "    <tr>\n",
       "      <th>50</th>\n",
       "      <td>man</td>\n",
       "      <td>0.021360</td>\n",
       "    </tr>\n",
       "    <tr>\n",
       "      <th>39</th>\n",
       "      <td>know</td>\n",
       "      <td>0.017620</td>\n",
       "    </tr>\n",
       "  </tbody>\n",
       "</table>\n",
       "</div>"
      ],
      "text/plain": [
       "   Variable  Coefficients\n",
       "99     year      0.027187\n",
       "55      new      0.026588\n",
       "21     game      0.026485\n",
       "59   people      0.025310\n",
       "68      say      0.022975\n",
       "50      man      0.021360\n",
       "39     know      0.017620"
      ]
     },
     "execution_count": 37,
     "metadata": {},
     "output_type": "execute_result"
    }
   ],
   "source": [
    "cf = pd.DataFrame({'Variable':X.columns, 'Coefficients':np.expm1(logreg.coef_[0])}).sort_values('Coefficients', ascending=False)\n",
    "cf.head(7)"
   ]
  },
  {
   "cell_type": "markdown",
   "id": "cb77a762-92e4-47ff-a573-275997c0d1c1",
   "metadata": {},
   "source": [
    "**LOGREG interpretation**\n",
    "- The top coefs push you to the most POSITIVE CLASS not the most powerful(importance)\n",
    "- For each unit change in the variable, the positive class is that times more likely.\n",
    "- The subreddit_title are more important than words in titles.\n",
    "- man, year, say & new was also important key words that were in subreddits hot posts I assume they could be correlated to all sporting events that happened the day we scraped."
   ]
  },
  {
   "cell_type": "markdown",
   "id": "424068f1-11b0-4200-b81f-d7e132474baf",
   "metadata": {},
   "source": [
    " "
   ]
  },
  {
   "cell_type": "markdown",
   "id": "b488a798-6729-4593-b3fc-910621670395",
   "metadata": {},
   "source": [
    " "
   ]
  },
  {
   "cell_type": "markdown",
   "id": "e4d59d16-aec2-4b37-b601-a4cea860252d",
   "metadata": {},
   "source": [
    "**Importance variables in Random Forest**"
   ]
  },
  {
   "cell_type": "code",
   "execution_count": 38,
   "id": "24af3573-45c2-476a-9060-585e770e777c",
   "metadata": {},
   "outputs": [
    {
     "data": {
      "text/html": [
       "<div>\n",
       "<style scoped>\n",
       "    .dataframe tbody tr th:only-of-type {\n",
       "        vertical-align: middle;\n",
       "    }\n",
       "\n",
       "    .dataframe tbody tr th {\n",
       "        vertical-align: top;\n",
       "    }\n",
       "\n",
       "    .dataframe thead th {\n",
       "        text-align: right;\n",
       "    }\n",
       "</style>\n",
       "<table border=\"1\" class=\"dataframe\">\n",
       "  <thead>\n",
       "    <tr style=\"text-align: right;\">\n",
       "      <th></th>\n",
       "      <th>Variable</th>\n",
       "      <th>Importance</th>\n",
       "    </tr>\n",
       "  </thead>\n",
       "  <tbody>\n",
       "    <tr>\n",
       "      <th>110</th>\n",
       "      <td>time_posted_scaled</td>\n",
       "      <td>0.585047</td>\n",
       "    </tr>\n",
       "    <tr>\n",
       "      <th>21</th>\n",
       "      <td>game</td>\n",
       "      <td>0.012964</td>\n",
       "    </tr>\n",
       "    <tr>\n",
       "      <th>99</th>\n",
       "      <td>year</td>\n",
       "      <td>0.012761</td>\n",
       "    </tr>\n",
       "    <tr>\n",
       "      <th>59</th>\n",
       "      <td>people</td>\n",
       "      <td>0.012019</td>\n",
       "    </tr>\n",
       "    <tr>\n",
       "      <th>55</th>\n",
       "      <td>new</td>\n",
       "      <td>0.011479</td>\n",
       "    </tr>\n",
       "    <tr>\n",
       "      <th>68</th>\n",
       "      <td>say</td>\n",
       "      <td>0.010654</td>\n",
       "    </tr>\n",
       "    <tr>\n",
       "      <th>37</th>\n",
       "      <td>just</td>\n",
       "      <td>0.010276</td>\n",
       "    </tr>\n",
       "  </tbody>\n",
       "</table>\n",
       "</div>"
      ],
      "text/plain": [
       "               Variable  Importance\n",
       "110  time_posted_scaled    0.585047\n",
       "21                 game    0.012964\n",
       "99                 year    0.012761\n",
       "59               people    0.012019\n",
       "55                  new    0.011479\n",
       "68                  say    0.010654\n",
       "37                 just    0.010276"
      ]
     },
     "execution_count": 38,
     "metadata": {},
     "output_type": "execute_result"
    }
   ],
   "source": [
    "vrf = pd.DataFrame({'Variable':X.columns, 'Importance':rf.feature_importances_}).sort_values('Importance', ascending=False)\n",
    "vrf.head(7)"
   ]
  },
  {
   "cell_type": "markdown",
   "id": "ca0233ca-ef46-4f20-b29e-577e39a4f347",
   "metadata": {},
   "source": [
    "**RF interpretation**\n",
    "- We just know they were important in making the decision. \n",
    "- These features may have importance related to a game going on.\n",
    "- The key words game & people are one of the top features trending the day we scraped for posts, there was an NBA game and other sporting events on while I was only scraping data for that one day.\n",
    "- time_posted seems to be correlated towards the time a post was posted during trending subreddit such as the  words people & games, as an NBA game possibly was on during this time period.\n",
    "- Man, year, say & new was also important key words that were in subreddits hot posts I assume they could be correlated to all sporting events that happened the day we scraped."
   ]
  },
  {
   "cell_type": "markdown",
   "id": "5c1cecbe-e288-4504-b307-3f3bcc4924f2",
   "metadata": {},
   "source": [
    " "
   ]
  },
  {
   "cell_type": "markdown",
   "id": "d68f209e-26a7-4bd2-ae76-51b1455bf11e",
   "metadata": {},
   "source": [
    " "
   ]
  },
  {
   "cell_type": "markdown",
   "id": "8c48ed0c-961b-4810-891d-aabb4a935a73",
   "metadata": {},
   "source": [
    "**Importance variables in Gradient Boosting Classifier**"
   ]
  },
  {
   "cell_type": "code",
   "execution_count": 39,
   "id": "5b3a50e0-d4e3-40de-ba93-59f99b1db154",
   "metadata": {},
   "outputs": [
    {
     "data": {
      "text/html": [
       "<div>\n",
       "<style scoped>\n",
       "    .dataframe tbody tr th:only-of-type {\n",
       "        vertical-align: middle;\n",
       "    }\n",
       "\n",
       "    .dataframe tbody tr th {\n",
       "        vertical-align: top;\n",
       "    }\n",
       "\n",
       "    .dataframe thead th {\n",
       "        text-align: right;\n",
       "    }\n",
       "</style>\n",
       "<table border=\"1\" class=\"dataframe\">\n",
       "  <thead>\n",
       "    <tr style=\"text-align: right;\">\n",
       "      <th></th>\n",
       "      <th>Variable</th>\n",
       "      <th>Importance</th>\n",
       "    </tr>\n",
       "  </thead>\n",
       "  <tbody>\n",
       "    <tr>\n",
       "      <th>110</th>\n",
       "      <td>time_posted_scaled</td>\n",
       "      <td>0.794519</td>\n",
       "    </tr>\n",
       "    <tr>\n",
       "      <th>21</th>\n",
       "      <td>game</td>\n",
       "      <td>0.017756</td>\n",
       "    </tr>\n",
       "    <tr>\n",
       "      <th>59</th>\n",
       "      <td>people</td>\n",
       "      <td>0.012393</td>\n",
       "    </tr>\n",
       "    <tr>\n",
       "      <th>99</th>\n",
       "      <td>year</td>\n",
       "      <td>0.010162</td>\n",
       "    </tr>\n",
       "    <tr>\n",
       "      <th>55</th>\n",
       "      <td>new</td>\n",
       "      <td>0.009631</td>\n",
       "    </tr>\n",
       "    <tr>\n",
       "      <th>68</th>\n",
       "      <td>say</td>\n",
       "      <td>0.008336</td>\n",
       "    </tr>\n",
       "    <tr>\n",
       "      <th>39</th>\n",
       "      <td>know</td>\n",
       "      <td>0.006949</td>\n",
       "    </tr>\n",
       "  </tbody>\n",
       "</table>\n",
       "</div>"
      ],
      "text/plain": [
       "               Variable  Importance\n",
       "110  time_posted_scaled    0.794519\n",
       "21                 game    0.017756\n",
       "59               people    0.012393\n",
       "99                 year    0.010162\n",
       "55                  new    0.009631\n",
       "68                  say    0.008336\n",
       "39                 know    0.006949"
      ]
     },
     "execution_count": 39,
     "metadata": {},
     "output_type": "execute_result"
    }
   ],
   "source": [
    "vgb = pd.DataFrame({'Variable':X.columns, 'Importance':gb.feature_importances_}).sort_values('Importance', ascending=False)\n",
    "vgb.head(7)"
   ]
  },
  {
   "cell_type": "markdown",
   "id": "e52062c0-77d8-4f73-86e2-2627650d0f56",
   "metadata": {},
   "source": [
    "**GB interpretation**\n",
    "- Like Random forest these are importances not like the Coefficients.\n",
    "- time_posted is once again the most important variable in correlation to game & possibly correlation to people.\n",
    "- Sporting events were trending around the same time so it is correlated to game, people, woman & time_post when I was scraping the data."
   ]
  },
  {
   "cell_type": "markdown",
   "id": "dd18a149-cddd-4ddd-9494-5ad35a5535c2",
   "metadata": {},
   "source": [
    " "
   ]
  },
  {
   "cell_type": "markdown",
   "id": "f1a3d5fb-c6bd-4559-be30-f10eabd59819",
   "metadata": {},
   "source": [
    " "
   ]
  },
  {
   "cell_type": "markdown",
   "id": "a5202554-7840-4be3-9cd2-df87b5d47930",
   "metadata": {},
   "source": [
    " "
   ]
  },
  {
   "cell_type": "markdown",
   "id": "a8028ec4-7d60-4fbd-b083-c98913c26ef4",
   "metadata": {},
   "source": [
    "# Conclusions & Recommendations"
   ]
  },
  {
   "cell_type": "markdown",
   "id": "1636045a-7bea-4e41-8445-bdb35cc6453b",
   "metadata": {},
   "source": [
    "Scenario\n",
    "You're fresh out of your Data Science bootcamp and looking to break through in the world of freelance data journalism. Nate Silver and co. at FiveThirtyEight have agreed to hear your pitch for a story in two weeks!\n",
    "\n",
    "Your piece is going to be on how to create a Reddit post that will get the most engagement from Reddit users. Because this is FiveThirtyEight, you're going to have to get data and analyze it in order to make a compelling narrative."
   ]
  },
  {
   "cell_type": "markdown",
   "id": "6782a1e3-08df-4d8b-9f16-c24d1be29a5b",
   "metadata": {
    "jp-MarkdownHeadingCollapsed": true,
    "tags": []
   },
   "source": [
    "- **Based on my problem statement and work, I have concluded, That my model predicts what words make a post that get above the baseline of comments which are hot subreddit posts.**\n",
    "- **For future iteration  I will run Sigma(my data scrape script) alot longer as 1 day of scraping data isn't enough to use to train the model for scores.**\n",
    "- **The model  score of Not Hot post are more accurate than the Hot post score, I think I need more data in order to improve the models overall.**\n",
    "- **time_posted doesn't seem to effect the num_comments a post have from the data collected and interpretations.**\n",
    "- **Hot post typically trends for around a day then gets pushed down by new hot posts which seems to not effect num_comments in contrary to age of post.**\n",
    "- **With the findings I have with my model scores and trend can determine which subreddit post company's can template and use to make FiveThirtyEight get more views and interaction on each new post.**"
   ]
  }
 ],
 "metadata": {
  "kernelspec": {
   "display_name": "Python 3 (ipykernel)",
   "language": "python",
   "name": "python3"
  },
  "language_info": {
   "codemirror_mode": {
    "name": "ipython",
    "version": 3
   },
   "file_extension": ".py",
   "mimetype": "text/x-python",
   "name": "python",
   "nbconvert_exporter": "python",
   "pygments_lexer": "ipython3",
   "version": "3.10.6"
  }
 },
 "nbformat": 4,
 "nbformat_minor": 5
}
